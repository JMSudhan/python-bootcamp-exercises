{
 "cells": [
  {
   "cell_type": "code",
   "execution_count": null,
   "metadata": {},
   "outputs": [],
   "source": [
    "#Define a whole number (integer) and print it\n",
    "a=10\n",
    "print(a)"
   ]
  },
  {
   "cell_type": "code",
   "execution_count": null,
   "metadata": {},
   "outputs": [],
   "source": [
    "#Define an integer and print the type of the integer using \"type\" function\n",
    "a=10\n",
    "\n",
    "print(type(a))"
   ]
  },
  {
   "cell_type": "code",
   "execution_count": null,
   "metadata": {},
   "outputs": [],
   "source": [
    "#Define a variable pi and assign the value of pi. Print the value of pi (pi is a floating point number)\n",
    "pi=22/7 #22/7 or 3.14 anything can be used\n",
    "print(round(pi,4))\n",
    "print(pi)"
   ]
  },
  {
   "cell_type": "code",
   "execution_count": null,
   "metadata": {},
   "outputs": [],
   "source": [
    "#Write a program that prints area and circumference of a circle for a given radius\n",
    "#(try it having radius as integer and floating point)\n",
    "r=input('enter radius= ')\n",
    "unit=input('enter the unit(if none enter nothing)')\n",
    "r=float(r)\n",
    "#since we have already defined 'pi' we can use it here\n",
    "Area = pi*(r**2)\n",
    "Circumference = 2*pi*r\n",
    "if (unit is ''):\n",
    "    print(f\"Area of the given circle of radius {r} {unit} is = {Area} Square units\")\n",
    "else:\n",
    "    print(f\"Area of the given circle of radius {r} {unit} is = {Area} Square {unit}\")\n",
    "    \n",
    "print(f\"Circumference of the given circle of radius {r} {unit} is = {Circumference}{unit}\")"
   ]
  },
  {
   "cell_type": "code",
   "execution_count": null,
   "metadata": {},
   "outputs": [],
   "source": [
    "#Define pi and print the type of 'pi'\n",
    "pi=3.142\n",
    "print(type(pi))"
   ]
  },
  {
   "cell_type": "code",
   "execution_count": null,
   "metadata": {},
   "outputs": [],
   "source": [
    "#Write a program to perform the following operations. \n",
    "#Store the resultant value in a variable and print the variable with some meaningful text.\n",
    "a=44\n",
    "b=11\n",
    "print ('\\n','Addition =', a+b,'\\n',\n",
    "      'Subtraction =', a-b,'\\n',\n",
    "      'Multiplication =', a*b,'\\n',\n",
    "      'Division =', a/b,'\\n',\n",
    "      'Floor Division =', a//b,'\\n',\n",
    "      'Exponent =', a**1,',', b**3,'\\n',\n",
    "      'Modulus =', a%b)"
   ]
  },
  {
   "cell_type": "code",
   "execution_count": null,
   "metadata": {},
   "outputs": [],
   "source": [
    "#Take two very large number (probably 20 digits) and multiply both of them. Print the result.\n",
    "n1=10245789654812457635\n",
    "n2=45756248653145786586\n",
    "print(n1*n2)"
   ]
  },
  {
   "cell_type": "code",
   "execution_count": null,
   "metadata": {},
   "outputs": [],
   "source": [
    "#Take one large number and one smaller number and perform raised to the power. Observe the behavior by printing the result.\n",
    "n0=450\n",
    "print(n0**2)"
   ]
  },
  {
   "cell_type": "code",
   "execution_count": null,
   "metadata": {},
   "outputs": [],
   "source": [
    "n1=10245789654812457635\n",
    "print(n1**900)"
   ]
  },
  {
   "cell_type": "code",
   "execution_count": null,
   "metadata": {},
   "outputs": [],
   "source": [
    "n_5=int(input())\n",
    "\n",
    "if (n_5%5==0):\n",
    "        Quo= n_5 // 5\n",
    "        print(f'The number {n_5} is divisible by 5 and the quotient is {Quo}')\n",
    "else:\n",
    "        Rem= n_5%5\n",
    "        print(f'The number {n_5} is not divisible by 5, because it leaves a reminder {Rem}')\n",
    "\n"
   ]
  },
  {
   "cell_type": "code",
   "execution_count": null,
   "metadata": {},
   "outputs": [],
   "source": [
    "#Write a program to find whether a number is a multiple of both 5 and 9\n",
    "n_5_9=int(input())\n",
    "\n",
    "if (n_5_9 % 5==0) and (n_5_9 % 9 == 0):\n",
    "        Quo1= n_5_9 // 5\n",
    "        Quo2= n_5_9 // 9\n",
    "        print(f'''The number {n_5_9} is divisible by 5 and leaves a quotient {Quo1} when divided by 5 and \n",
    "              leaves a quotient {Quo2} when divided by 9''')\n",
    "else:\n",
    "        Rem1= n_5_9%5\n",
    "        Rem2= n_5_9%9\n",
    "        print(f'''The number {n_5_9} is not divisible by 5, because it leaves a reminder {Rem1} when divided by 5\n",
    "              and leaves a reminder {Rem2} when divided by 9''')"
   ]
  },
  {
   "cell_type": "code",
   "execution_count": null,
   "metadata": {},
   "outputs": [],
   "source": [
    "for i in range(0, 5,2): \n",
    "   print(i) "
   ]
  },
  {
   "cell_type": "code",
   "execution_count": null,
   "metadata": {},
   "outputs": [],
   "source": [
    "help(range)"
   ]
  },
  {
   "cell_type": "code",
   "execution_count": null,
   "metadata": {},
   "outputs": [],
   "source": [
    "#copied from internet\n",
    "a=200\n",
    "for i in range(a,a+2,2): \n",
    "    print(i) "
   ]
  },
  {
   "cell_type": "code",
   "execution_count": null,
   "metadata": {},
   "outputs": [],
   "source": [
    "#Assign a numerical value to a variable. \n",
    "#Perform increment and print the value. \n",
    "a=int(input())\n",
    "a +=1\n",
    "print(a)\n",
    "\n",
    "#Perform decrement and print the value.\n",
    "a -=2\n",
    "print(a)"
   ]
  },
  {
   "cell_type": "code",
   "execution_count": null,
   "metadata": {},
   "outputs": [],
   "source": [
    "#Perform the following operations using the functions given. \n",
    "#Read about these functions using help.\n",
    "help(abs)"
   ]
  },
  {
   "cell_type": "code",
   "execution_count": null,
   "metadata": {},
   "outputs": [],
   "source": [
    "abs(-4.3)"
   ]
  },
  {
   "cell_type": "code",
   "execution_count": null,
   "metadata": {},
   "outputs": [],
   "source": [
    "help(round)"
   ]
  },
  {
   "cell_type": "code",
   "execution_count": null,
   "metadata": {},
   "outputs": [],
   "source": [
    "round(4.345,1)"
   ]
  },
  {
   "cell_type": "code",
   "execution_count": null,
   "metadata": {},
   "outputs": [],
   "source": [
    "#Perform the following operators on integers and floating point numbers and print the result of evaluation \n",
    "#(Note: either one of \"True\" or \"False\" should be printed. True or False is boolean values.)\n",
    "a1=10\n",
    "b1= 12\n",
    "print(a1 < b1,\n",
    "a1 > b1,\n",
    "a1 >= b1,\n",
    "a1 <= b1,\n",
    "a1 != b1,\n",
    "a1== b1)"
   ]
  },
  {
   "cell_type": "code",
   "execution_count": null,
   "metadata": {},
   "outputs": [],
   "source": [
    "a2=4.5\n",
    "b2= 3.24\n",
    "print(a2 < b2,\n",
    "a2 > b2,\n",
    "a2 >= b2,\n",
    "a2 <= b2,\n",
    "a2 != b2,\n",
    "a2== b2)"
   ]
  },
  {
   "cell_type": "code",
   "execution_count": null,
   "metadata": {},
   "outputs": [],
   "source": [
    "#Convert the following strings to int type using \"int\" functions. This is called as casting.\n",
    "x=int(\"2\")\n",
    "y=int('100')\n",
    "z=int('-100')\n",
    "print(x,y,z)"
   ]
  },
  {
   "cell_type": "code",
   "execution_count": null,
   "metadata": {},
   "outputs": [],
   "source": [
    "#Given a number \"N\", write a function to find sum of squares of numbers from 1 to N\n",
    "N=int(input('Enter the number= '))\n",
    "SOS = (N*(N+1)*((2*N)+1))//6\n",
    "print(f'The sum of squares of numbers from 1 to {N} is {SOS}')\n"
   ]
  },
  {
   "cell_type": "code",
   "execution_count": 6,
   "metadata": {},
   "outputs": [
    {
     "data": {
      "text/plain": [
       "477122"
      ]
     },
     "execution_count": 6,
     "metadata": {},
     "output_type": "execute_result"
    }
   ],
   "source": [
    "#How many digits does 3 ** 1000000 have? Write a program to find the\n",
    "#How many digits does 3 ** 1000000 have? Write a program to find the number of digits\n",
    "import sys\n",
    "s1=3**1000000\n",
    "len(str(s1))\n"
   ]
  },
  {
   "cell_type": "code",
   "execution_count": null,
   "metadata": {},
   "outputs": [],
   "source": [
    "#Copied From Internet\n",
    "input_num = int(input('Enter any number: '))\n",
    " \n",
    "count = 0\n",
    "while input_num > 0:\n",
    "    count += 1\n",
    "    input_num //= 10\n",
    "print(\"The number of digits in the given number are:\", count)"
   ]
  },
  {
   "cell_type": "code",
   "execution_count": 9,
   "metadata": {},
   "outputs": [
    {
     "name": "stdout",
     "output_type": "stream",
     "text": [
      "72\n"
     ]
    }
   ],
   "source": [
    "#Write a program to generate a random number between 1 and 100\n",
    "import random\n",
    "print(random.randint(1,100))"
   ]
  },
  {
   "cell_type": "code",
   "execution_count": null,
   "metadata": {},
   "outputs": [],
   "source": []
  }
 ],
 "metadata": {
  "kernelspec": {
   "display_name": "Python 3",
   "language": "python",
   "name": "python3"
  },
  "language_info": {
   "codemirror_mode": {
    "name": "ipython",
    "version": 3
   },
   "file_extension": ".py",
   "mimetype": "text/x-python",
   "name": "python",
   "nbconvert_exporter": "python",
   "pygments_lexer": "ipython3",
   "version": "3.7.3"
  }
 },
 "nbformat": 4,
 "nbformat_minor": 2
}
