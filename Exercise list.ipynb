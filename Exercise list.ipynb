{
 "cells": [
  {
   "cell_type": "code",
   "execution_count": 55,
   "metadata": {},
   "outputs": [],
   "source": [
    "#Andhra Pradesh,Arunachal Pradesh ,Assam,Bihar,Chhattisgarh,Goa,Gujarat,Haryana,Himachal Pradesh\n",
    "#Jammu and Kashmir,Jharkhand,Karnataka,Kerala,Madhya Pradesh\n",
    "#Maharashtra,Manipur,Meghalaya,Mizoram,Nagaland,Odisha,Punjab,Rajasthan,Sikkim,Tamil Nadu,Telangana,Tripura,Uttar Pradesh,\n",
    "#Uttarakhand,West Bengal,Andaman and Nicobar Islands\n",
    "#Chandigarh,Dadra and Nagar Haveli,Daman and Diu,Lakshadweep,National Capital Territory of Delhi,Puducherry\n",
    "#deliberatly left Andhra Pradesh,Chhattisgarh and Puducherry for future exercises\n",
    "states = [\"AR\",\"AS\",\"BR\",\"GA\",\"GJ\",\"HR\",\"HP\"\n",
    "          ,\"JK\",\"JH\",\"KA\",\"KL\",\"MP\",\"MH\",\"MN\",\"ML\",\"MZ\",\"NL\",\"OR\",\n",
    "          \"PB\",\"RJ\",\"SK\",\"TN\",\"TE\",\"TR\",\"UP\",\"UK\",\"WB\",\"AN\",\n",
    "          \"CH\",\"DH\",\"DD\",\"LD\",\"DL\"]\n",
    " "
   ]
  },
  {
   "cell_type": "code",
   "execution_count": 56,
   "metadata": {},
   "outputs": [
    {
     "name": "stdout",
     "output_type": "stream",
     "text": [
      "AR\n"
     ]
    }
   ],
   "source": [
    "#Define the list and print the element at the following position\n",
    "#first element in the list\n",
    "print(states[0])"
   ]
  },
  {
   "cell_type": "code",
   "execution_count": 57,
   "metadata": {},
   "outputs": [
    {
     "name": "stdout",
     "output_type": "stream",
     "text": [
      "AS\n"
     ]
    }
   ],
   "source": [
    "#second element in the list\n",
    "print(states[1])"
   ]
  },
  {
   "cell_type": "code",
   "execution_count": 58,
   "metadata": {},
   "outputs": [
    {
     "name": "stdout",
     "output_type": "stream",
     "text": [
      "BR\n"
     ]
    }
   ],
   "source": [
    "#third  element in the list\n",
    "print(states[2])"
   ]
  },
  {
   "cell_type": "code",
   "execution_count": 59,
   "metadata": {},
   "outputs": [
    {
     "name": "stdout",
     "output_type": "stream",
     "text": [
      "DL\n"
     ]
    }
   ],
   "source": [
    "#last   element in the list\n",
    "print(states[-1])"
   ]
  },
  {
   "cell_type": "code",
   "execution_count": 60,
   "metadata": {},
   "outputs": [
    {
     "name": "stdout",
     "output_type": "stream",
     "text": [
      "LD\n"
     ]
    }
   ],
   "source": [
    "#the value at last but one\n",
    "print(states[-2])"
   ]
  },
  {
   "cell_type": "code",
   "execution_count": 61,
   "metadata": {},
   "outputs": [
    {
     "data": {
      "text/plain": [
       "21"
      ]
     },
     "execution_count": 61,
     "metadata": {},
     "output_type": "execute_result"
    }
   ],
   "source": [
    "#print the index of a value in the list that is existing\n",
    "states.index(\"TN\")"
   ]
  },
  {
   "cell_type": "code",
   "execution_count": 62,
   "metadata": {},
   "outputs": [
    {
     "ename": "ValueError",
     "evalue": "'Ti' is not in list",
     "output_type": "error",
     "traceback": [
      "\u001b[1;31m---------------------------------------------------------------------------\u001b[0m",
      "\u001b[1;31mValueError\u001b[0m                                Traceback (most recent call last)",
      "\u001b[1;32m<ipython-input-62-3b7e41e5100c>\u001b[0m in \u001b[0;36m<module>\u001b[1;34m\u001b[0m\n\u001b[0;32m      1\u001b[0m \u001b[1;31m#print the index of a value that is not in the list\u001b[0m\u001b[1;33m\u001b[0m\u001b[1;33m\u001b[0m\u001b[1;33m\u001b[0m\u001b[0m\n\u001b[0;32m      2\u001b[0m \u001b[1;31m#will return value error\u001b[0m\u001b[1;33m\u001b[0m\u001b[1;33m\u001b[0m\u001b[1;33m\u001b[0m\u001b[0m\n\u001b[1;32m----> 3\u001b[1;33m \u001b[0mstates\u001b[0m\u001b[1;33m.\u001b[0m\u001b[0mindex\u001b[0m\u001b[1;33m(\u001b[0m\u001b[1;34m\"Ti\"\u001b[0m\u001b[1;33m)\u001b[0m\u001b[1;33m\u001b[0m\u001b[1;33m\u001b[0m\u001b[0m\n\u001b[0m",
      "\u001b[1;31mValueError\u001b[0m: 'Ti' is not in list"
     ]
    }
   ],
   "source": [
    "#print the index of a value that is not in the list\n",
    "#will return value error\n",
    "states.index(\"Ti\")"
   ]
  },
  {
   "cell_type": "code",
   "execution_count": 63,
   "metadata": {},
   "outputs": [
    {
     "name": "stdout",
     "output_type": "stream",
     "text": [
      "33\n"
     ]
    }
   ],
   "source": [
    "#print the length of the list\n",
    "print(len(states))"
   ]
  },
  {
   "cell_type": "code",
   "execution_count": 64,
   "metadata": {},
   "outputs": [
    {
     "name": "stdout",
     "output_type": "stream",
     "text": [
      "['AR', 'AS']\n"
     ]
    }
   ],
   "source": [
    "#print the first and second element of the list\n",
    "print(states[0:2])"
   ]
  },
  {
   "cell_type": "code",
   "execution_count": 65,
   "metadata": {},
   "outputs": [
    {
     "name": "stdout",
     "output_type": "stream",
     "text": [
      "['AR', 'AS', 'BR', 'GA', 'GJ']\n"
     ]
    }
   ],
   "source": [
    "#print the first five elements of the list.\n",
    "print(states[:5])"
   ]
  },
  {
   "cell_type": "code",
   "execution_count": 66,
   "metadata": {},
   "outputs": [
    {
     "name": "stdout",
     "output_type": "stream",
     "text": [
      "['BR', 'GA']\n"
     ]
    },
    {
     "data": {
      "text/plain": [
       "(2, 3)"
      ]
     },
     "execution_count": 66,
     "metadata": {},
     "output_type": "execute_result"
    }
   ],
   "source": [
    "#print the third and fourth element of the list.\n",
    "print(states[2:4])\n",
    "states.index(states[2]),states.index(states[3])"
   ]
  },
  {
   "cell_type": "code",
   "execution_count": 67,
   "metadata": {},
   "outputs": [
    {
     "name": "stdout",
     "output_type": "stream",
     "text": [
      "33\n",
      "PY\n",
      "34\n"
     ]
    }
   ],
   "source": [
    "#Add an element to the list by the following methods\n",
    "#add an element to the end of the list.\n",
    "print(len(states))\n",
    "states.append('PY')\n",
    "print(states[-1])\n",
    "print(len(states))"
   ]
  },
  {
   "cell_type": "code",
   "execution_count": 68,
   "metadata": {},
   "outputs": [
    {
     "name": "stdout",
     "output_type": "stream",
     "text": [
      "34\n",
      "AP\n",
      "35\n"
     ]
    }
   ],
   "source": [
    "#add an element at zeroth index.\n",
    "print(len(states))\n",
    "states.insert(0,'AP')\n",
    "print(states[0])\n",
    "print(len(states))"
   ]
  },
  {
   "cell_type": "code",
   "execution_count": 69,
   "metadata": {},
   "outputs": [
    {
     "name": "stdout",
     "output_type": "stream",
     "text": [
      "35\n",
      "CG\n",
      "36\n"
     ]
    }
   ],
   "source": [
    "#add an element at fifth index.\n",
    "print(len(states))\n",
    "states.insert(5,'CG')\n",
    "print(states[5])\n",
    "print(len(states))"
   ]
  },
  {
   "cell_type": "code",
   "execution_count": 70,
   "metadata": {},
   "outputs": [
    {
     "data": {
      "text/plain": [
       "1456455458120"
      ]
     },
     "execution_count": 70,
     "metadata": {},
     "output_type": "execute_result"
    }
   ],
   "source": [
    "id(states)"
   ]
  },
  {
   "cell_type": "code",
   "execution_count": 71,
   "metadata": {},
   "outputs": [
    {
     "name": "stdout",
     "output_type": "stream",
     "text": [
      "1456455458120\n",
      "[]\n",
      "1456455458120\n"
     ]
    }
   ],
   "source": [
    "#last question\n",
    "#Given a list, how will you clear all the elements of the list.\n",
    "print(id(states))\n",
    "states.clear()\n",
    "print(states)\n",
    "print(id(states))"
   ]
  },
  {
   "cell_type": "code",
   "execution_count": 76,
   "metadata": {},
   "outputs": [
    {
     "name": "stdout",
     "output_type": "stream",
     "text": [
      "[4, 3, 2, 1]\n"
     ]
    }
   ],
   "source": [
    "#Reverse a list\n",
    "#exercise page 3 number 5\n",
    "n=[1,2,3,4]\n",
    "print(n[::-1])\n"
   ]
  },
  {
   "cell_type": "code",
   "execution_count": null,
   "metadata": {},
   "outputs": [],
   "source": [
    "\n",
    "KA = ['BAG', 'BLU', 'BLR', 'BID', 'CHA']\n",
    "AP = ['ANA', 'NEL', 'KAD', 'GUN', 'CHI']\n",
    "TE = ['HYD', 'NIZ', 'SEC', 'PED', 'WAN']\n",
    "states = [TM, KL, KA, AP, TE]"
   ]
  },
  {
   "cell_type": "code",
   "execution_count": 77,
   "metadata": {},
   "outputs": [],
   "source": [
    "#Define the following lists\n",
    "#list of districts in your state.\n",
    "TN = ['CHE', 'SAL', 'MAD', 'KAN', 'TRL']"
   ]
  },
  {
   "cell_type": "code",
   "execution_count": 81,
   "metadata": {},
   "outputs": [],
   "source": [
    "#list of districts in your neighboring states with each of the neighboring state in a separate list.\n",
    "KL = ['COC', 'TRN', 'KOZ', 'KOT', 'WAY']\n",
    "KA = ['BAG', 'BLU', 'BLR', 'BID', 'CHA']\n",
    "AP = ['ANA', 'NEL', 'KAD', 'GUN', 'CHI']\n",
    "TE = ['HYD', 'NIZ', 'SEC', 'PED', 'WAN']"
   ]
  },
  {
   "cell_type": "code",
   "execution_count": 82,
   "metadata": {},
   "outputs": [],
   "source": [
    "#create a list called \"states\" and add all the lists created above to list \"states\". So, this will be a list containing lists\n",
    "states = [TN, KL, KA, AP, TE]"
   ]
  },
  {
   "cell_type": "code",
   "execution_count": 88,
   "metadata": {},
   "outputs": [
    {
     "name": "stdout",
     "output_type": "stream",
     "text": [
      "1456455567368\n",
      "[1, 2, 3, 4, 5, 6, 7, 8, 9, 10]\n",
      "1456455421832\n"
     ]
    }
   ],
   "source": [
    "#Define two lists and add all the elements of second list to the first.\n",
    "first = [1, 2, 3, 4, 5]\n",
    "print(id(first))\n",
    "second = [6, 7, 8, 9, 10]\n",
    "first = first + second\n",
    "print(first)\n",
    "print(id(first))\n",
    "#In this method it'll be stored in a different memory location"
   ]
  },
  {
   "cell_type": "code",
   "execution_count": 92,
   "metadata": {},
   "outputs": [
    {
     "name": "stdout",
     "output_type": "stream",
     "text": [
      "1456455468872\n",
      "[1, 2, 3, 4, 5, 6, 7, 8, 9, 10]\n",
      "1456455468872\n"
     ]
    }
   ],
   "source": [
    "#Define two lists and add all the elements of second list to the first.\n",
    "first = [1, 2, 3, 4, 5]\n",
    "print(id(first))\n",
    "second = [6, 7, 8, 9, 10]\n",
    "for i in range(len(second)):\n",
    "    first.append(second[i])\n",
    "print(first)\n",
    "print(id(first))\n",
    "#In this method it'll be stored in the same memory location"
   ]
  },
  {
   "cell_type": "code",
   "execution_count": 93,
   "metadata": {},
   "outputs": [
    {
     "data": {
      "text/plain": [
       "['Jothi', 'Class XII', 'Sec C', 'Comp', 'Phy', 'Che', 'Mat']"
      ]
     },
     "execution_count": 93,
     "metadata": {},
     "output_type": "execute_result"
    }
   ],
   "source": [
    "#Define two lists and add the elements of both list to another common list. \n",
    "#Ensure that first and second list should not be altered.\n",
    "Stud = ['Jothi', 'Class XII', 'Sec C']\n",
    "Group = ['Comp', 'Phy', 'Che', 'Mat']\n",
    "Std_gr= Stud + Group\n",
    "Std_gr"
   ]
  },
  {
   "cell_type": "code",
   "execution_count": 95,
   "metadata": {},
   "outputs": [
    {
     "data": {
      "text/plain": [
       "['Jothi', 'Class XII', 'Sec C', 'Comp', 'Phy', 'Che']"
      ]
     },
     "execution_count": 95,
     "metadata": {},
     "output_type": "execute_result"
    }
   ],
   "source": [
    "#Remove an element from the list (use remove function)\n",
    "\n",
    "Std_gr.remove(Std_gr[-1])\n",
    "Std_gr"
   ]
  },
  {
   "cell_type": "code",
   "execution_count": 97,
   "metadata": {},
   "outputs": [
    {
     "data": {
      "text/plain": [
       "'Che'"
      ]
     },
     "execution_count": 97,
     "metadata": {},
     "output_type": "execute_result"
    }
   ],
   "source": [
    "#Remove the element from the list (using pop function)\n",
    "Sub_hate = Std_gr.pop()\n",
    "Sub_hate\n"
   ]
  },
  {
   "cell_type": "code",
   "execution_count": 98,
   "metadata": {},
   "outputs": [],
   "source": [
    "#What is the difference between remove and pop\n",
    "\n",
    "#When list.remove() is used it removes every element in the list\n",
    "#when list.remove(element) is used it removes the mentioned element in that list\n",
    "#When list.pop() is used it removes the last element from the list and returns that element\n"
   ]
  },
  {
   "cell_type": "code",
   "execution_count": 10,
   "metadata": {},
   "outputs": [
    {
     "name": "stdout",
     "output_type": "stream",
     "text": [
      "['0', 'a', 'c', 'd', 'g', 'h', 'p', 'z']\n",
      "['z', 'p', 'h', 'g', 'd', 'c', 'a', '0']\n"
     ]
    }
   ],
   "source": [
    "#sort a list using sort function\n",
    "#ascending order\n",
    "#descending order\n",
    "#exercise page 12 number 1\n",
    "#Repeat the above sorting exercise without changing the original list.\n",
    "lis = ['d','0','g','a','h','c','p','z']\n",
    "lis.sort()\n",
    "print(lis)\n",
    "lis.sort(reverse = True)\n",
    "print(lis)"
   ]
  },
  {
   "cell_type": "code",
   "execution_count": 109,
   "metadata": {},
   "outputs": [
    {
     "name": "stdout",
     "output_type": "stream",
     "text": [
      "1456454023304\n",
      "1456454023304\n",
      "['120496jmsapr', '12jms', 'Jothi12', 'MJMS1496']\n",
      "1456454023304\n",
      "['MJMS1496', 'Jothi12', '12jms', '120496jmsapr']\n"
     ]
    }
   ],
   "source": [
    "#Repeat for the list that has alphanumeric values\n",
    "#exercise page 12 number 1\n",
    "#Repeat the above sorting exercise without changing the original list.\n",
    "password = ['Jothi12', '12jms', 'MJMS1496', '120496jmsapr']\n",
    "print(id(password))\n",
    "password.sort()\n",
    "print(id(password))\n",
    "print(password)\n",
    "password.sort(reverse = True)\n",
    "print(id(password))\n",
    "print(password)"
   ]
  },
  {
   "cell_type": "code",
   "execution_count": 105,
   "metadata": {},
   "outputs": [
    {
     "name": "stdout",
     "output_type": "stream",
     "text": [
      "[3, 4, 5, 6, 7, 8, 9, 24, 53, 54, 63, 75, 84]\n",
      "[84, 75, 63, 54, 53, 24, 9, 8, 7, 6, 5, 4, 3]\n"
     ]
    }
   ],
   "source": [
    "#Repeat for the list that has int values\n",
    "#exercise page 12 number 1\n",
    "#Repeat the above sorting exercise without changing the original list.\n",
    "num = [5,4,3,8,9,7,63,54,6,53,75,84,24]\n",
    "num.sort()\n",
    "print(num)\n",
    "num.sort(reverse = True)\n",
    "print(num)"
   ]
  },
  {
   "cell_type": "code",
   "execution_count": 107,
   "metadata": {},
   "outputs": [
    {
     "name": "stdout",
     "output_type": "stream",
     "text": [
      "[2.4, 3.7, 4.3, 5.2, 5.3, 6.45, 7.5, 7.8, 8.0, 8.4, 9.3]\n",
      "[9.3, 8.4, 8.0, 7.8, 7.5, 6.45, 5.3, 5.2, 4.3, 3.7, 2.4]\n"
     ]
    }
   ],
   "source": [
    "#Repeat for the list that has float values\n",
    "#exercise page 12 number 1\n",
    "#Repeat the above sorting exercise without changing the original list.\n",
    "num_float = [5.2,4.3,3.7,8.0,9.3,7.8,6.45,5.3,7.5,8.4,2.4]\n",
    "num_float.sort()\n",
    "print(num_float)\n",
    "num_float.sort(reverse = True)\n",
    "print(num_float)"
   ]
  },
  {
   "cell_type": "code",
   "execution_count": 12,
   "metadata": {},
   "outputs": [
    {
     "name": "stdout",
     "output_type": "stream",
     "text": [
      "4\n"
     ]
    },
    {
     "ename": "ValueError",
     "evalue": "5 is not in list",
     "output_type": "error",
     "traceback": [
      "\u001b[1;31m---------------------------------------------------------------------------\u001b[0m",
      "\u001b[1;31mValueError\u001b[0m                                Traceback (most recent call last)",
      "\u001b[1;32m<ipython-input-12-0547b70c9fa9>\u001b[0m in \u001b[0;36m<module>\u001b[1;34m\u001b[0m\n\u001b[0;32m      4\u001b[0m \u001b[0msecond\u001b[0m \u001b[1;33m=\u001b[0m \u001b[1;33m[\u001b[0m\u001b[1;36m1\u001b[0m\u001b[1;33m,\u001b[0m \u001b[1;36m2\u001b[0m\u001b[1;33m,\u001b[0m \u001b[1;36m3\u001b[0m\u001b[1;33m,\u001b[0m \u001b[1;36m4\u001b[0m\u001b[1;33m]\u001b[0m\u001b[1;33m\u001b[0m\u001b[1;33m\u001b[0m\u001b[0m\n\u001b[0;32m      5\u001b[0m \u001b[0mprint\u001b[0m\u001b[1;33m(\u001b[0m\u001b[0mfirst\u001b[0m\u001b[1;33m.\u001b[0m\u001b[0mindex\u001b[0m\u001b[1;33m(\u001b[0m\u001b[1;36m5\u001b[0m\u001b[1;33m)\u001b[0m\u001b[1;33m)\u001b[0m\u001b[1;33m\u001b[0m\u001b[1;33m\u001b[0m\u001b[0m\n\u001b[1;32m----> 6\u001b[1;33m \u001b[0mprint\u001b[0m\u001b[1;33m(\u001b[0m\u001b[0msecond\u001b[0m\u001b[1;33m.\u001b[0m\u001b[0mindex\u001b[0m\u001b[1;33m(\u001b[0m\u001b[1;36m5\u001b[0m\u001b[1;33m)\u001b[0m\u001b[1;33m)\u001b[0m\u001b[1;33m\u001b[0m\u001b[1;33m\u001b[0m\u001b[0m\n\u001b[0m\u001b[0;32m      7\u001b[0m \u001b[1;31m#will return value error\u001b[0m\u001b[1;33m\u001b[0m\u001b[1;33m\u001b[0m\u001b[1;33m\u001b[0m\u001b[0m\n",
      "\u001b[1;31mValueError\u001b[0m: 5 is not in list"
     ]
    }
   ],
   "source": [
    "#Find the index of 5 in the following lists\n",
    "\n",
    "first = [1, 2, 3, 4, 5]\n",
    "second = [1, 2, 3, 4]\n",
    "print(first.index(5))\n",
    "print(second.index(5))\n",
    "#will return value error"
   ]
  },
  {
   "cell_type": "code",
   "execution_count": 31,
   "metadata": {},
   "outputs": [
    {
     "name": "stdout",
     "output_type": "stream",
     "text": [
      "4\n",
      "ValueError: could not find the index for 5 in the given list\n"
     ]
    }
   ],
   "source": [
    "#Find the index of 5 in the following lists\n",
    "#TO HANDLE THE VALUE ERROR WE CAN USE TRY AND EXCEPT FUNCTION\n",
    "\n",
    "\n",
    "first = [1, 2, 3, 4, 5]\n",
    "try:\n",
    "    print(first.index(5))\n",
    "except ValueError:\n",
    "    print (f'ValueError: could not find the index for {5} in the given list')\n",
    "second = [1, 2, 3, 4]\n",
    "try:\n",
    "    print(second.index(5))\n",
    "except ValueError:\n",
    "    print (f'ValueError: could not find the index for {5} in the given list')"
   ]
  },
  {
   "cell_type": "code",
   "execution_count": null,
   "metadata": {},
   "outputs": [],
   "source": []
  },
  {
   "cell_type": "code",
   "execution_count": 159,
   "metadata": {},
   "outputs": [
    {
     "name": "stdout",
     "output_type": "stream",
     "text": [
      "enter space seperated values: jo ldk k sd kdnl j\n",
      "['jo', 'ldk', 'k', 'sd', 'kdnl', 'j']\n",
      "enter the element or value: jo\n",
      "The index of the valueor element present in the list is 0\n"
     ]
    }
   ],
   "source": [
    "#Find whether an element/value present in a list.\n",
    "inp_str = input(\"enter space seperated values: \")\n",
    "List = inp_str.split()\n",
    "print(List)\n",
    "value = input(\"enter the element or value: \")\n",
    "if value in List:\n",
    "    print(f'The index of the value or element {value} present in the list is {List.index(value)}')\n",
    "else :\n",
    "    print(f'The index of the value or element {value} is not present in the list')"
   ]
  },
  {
   "cell_type": "code",
   "execution_count": 121,
   "metadata": {},
   "outputs": [
    {
     "name": "stdout",
     "output_type": "stream",
     "text": [
      "1\n",
      "2\n",
      "3\n",
      "4\n",
      "5\n"
     ]
    }
   ],
   "source": [
    "#Define a list and loop through it. Print the value at each index.\n",
    "first = [1, 2, 3, 4, 5]\n",
    "for i in range(len(first)):\n",
    "    print(first[i])\n"
   ]
  },
  {
   "cell_type": "code",
   "execution_count": 123,
   "metadata": {},
   "outputs": [
    {
     "name": "stdout",
     "output_type": "stream",
     "text": [
      "Mat\n",
      "0\n",
      "Dam\n",
      "1\n",
      "Henry\n",
      "2\n",
      "87\n",
      "3\n",
      "abC1\n",
      "4\n"
     ]
    }
   ],
   "source": [
    "#Define a list and loop through it. \n",
    "#Print the value at each index along with index value\n",
    "first = ['Mat', 'Dam', 'Henry', 87, 'abC1']\n",
    "for i in range(len(first)):\n",
    "    print(first[i])\n",
    "    print(first.index(first[i]))\n"
   ]
  },
  {
   "cell_type": "code",
   "execution_count": 124,
   "metadata": {},
   "outputs": [
    {
     "name": "stdout",
     "output_type": "stream",
     "text": [
      "Mat\n",
      "1\n",
      "Dam\n",
      "2\n",
      "Henry\n",
      "3\n",
      "87\n",
      "4\n",
      "abC1\n",
      "5\n"
     ]
    }
   ],
   "source": [
    "#Define a list and loop through it. \n",
    "#Print the value at each index along with index values and the index value should start from 1\n",
    "first = ['Mat', 'Dam', 'Henry', 87, 'abC1']\n",
    "for i in range(len(first)):\n",
    "    print(first[i])\n",
    "    print(first.index(first[i])+1)"
   ]
  },
  {
   "cell_type": "code",
   "execution_count": 126,
   "metadata": {},
   "outputs": [
    {
     "name": "stdout",
     "output_type": "stream",
     "text": [
      "The friends i play PUBG with are Antony, Dhana, George\n"
     ]
    }
   ],
   "source": [
    "#Create a list of names of your friends. \n",
    "#Create a friendship string with names of your friends separated by comma\n",
    "friends = ['Antony', 'Dhana', 'George']\n",
    "friendship = ', '.join(friends)\n",
    "print(f'The friends i play PUBG with are {friendship}')"
   ]
  },
  {
   "cell_type": "code",
   "execution_count": 132,
   "metadata": {},
   "outputs": [
    {
     "name": "stdout",
     "output_type": "stream",
     "text": [
      "['Antony', ' Dhana', ' George']\n"
     ]
    }
   ],
   "source": [
    "#Take the friendship string (output of previous problem) and convert it back to string using split\n",
    "fr_split= friendship.split(sep=',')\n",
    "print(fr_split)"
   ]
  },
  {
   "cell_type": "code",
   "execution_count": 156,
   "metadata": {},
   "outputs": [
    {
     "name": "stdout",
     "output_type": "stream",
     "text": [
      " list containing first two elements \n",
      " [1, 2]\n",
      " a list contain elements from third position(index2) to sixth position \n",
      " [3, 4, 5, 6, 7]\n",
      " a list containing last two elements, method 1(reversed) \n",
      " [10, 9]\n",
      " a list containing last two elements, method 2(non reversed) \n",
      " [9, 10]\n",
      " a list containing sixth and seventh position \n",
      " [7, 8]\n",
      " a list contain elements from first to last but one \n",
      " [1, 2, 3, 4, 5, 6, 7, 8, 9]\n",
      " a list containing last four elements, method 1(reversed) \n",
      " [10, 9, 8, 7]\n",
      " a list containing last four elements, method 2(non reversed) \n",
      " [7, 8, 9, 10]\n",
      " a list containing first and last elements \n",
      " [1, 10]\n"
     ]
    }
   ],
   "source": [
    "#From the list \"numbers = [1, 2, 3, 4, 5, 6, 7, 8, 9, 10]\", perform the following and get a new list.\n",
    "numbers = [1, 2, 3, 4, 5, 6, 7, 8, 9, 10]\n",
    "\n",
    "#a list containing first two elements\n",
    "#sul_1 is sub list 1\n",
    "sul_1 = numbers[0:2]\n",
    "print(f' list containing first two elements \\n {sul_1}')\n",
    "\n",
    "#a list contain elements from third position(index2) to sixth position\n",
    "sul_2 = numbers[2:7]\n",
    "print(f' a list contain elements from third position(index2) to sixth position \\n {sul_2}')\n",
    "\n",
    "#a list containing last two elements\n",
    "sul_3 = numbers[-1:-3:-1]\n",
    "print(f' a list containing last two elements, method 1(reversed) \\n {sul_3}')\n",
    "#if we want sul_3 to be non reversed we can use\n",
    "sul_3_1 = numbers[-1:-3:-1][::-1]\n",
    "print(f' a list containing last two elements, method 2(non reversed) \\n {sul_3_1}')\n",
    "\n",
    "#a list containing sixth and seventh position\n",
    "sul_4 = numbers[6:8]\n",
    "print(f' a list containing sixth and seventh position \\n {sul_4}')\n",
    "\n",
    "#a list contain elements from first to last but one\n",
    "sul_5 = numbers[0:(len(numbers)-1)]\n",
    "print(f' a list contain elements from first to last but one \\n {sul_5}')\n",
    "\n",
    "#a list containing last four elements\n",
    "sul_6 = numbers[-1:-5:-1]\n",
    "print(f' a list containing last four elements, method 1(reversed) \\n {sul_6}')\n",
    "#if we want sul_6 to be non reversed we can use\n",
    "sul_6_1 = numbers[-1:-5:-1][::-1]\n",
    "print(f' a list containing last four elements, method 2(non reversed) \\n {sul_6_1}')\n",
    "\n",
    "#a list containing first and last elements\n",
    "sul_7 = [numbers[0],numbers[-1]]\n",
    "print(f' a list containing first and last elements \\n {sul_7}')"
   ]
  },
  {
   "cell_type": "code",
   "execution_count": 194,
   "metadata": {},
   "outputs": [],
   "source": [
    "#Write a function that creates a separate lists for \n",
    "#integer, float, string and everything else.\n",
    "\n",
    "def sortlist(List):\n",
    "    int_in_list = []\n",
    "    str_in_List = []\n",
    "    float_in_List = []\n",
    "    others_in_List = []\n",
    "    for i in range(len(List)):\n",
    "        if isinstance(List[i],int) :\n",
    "            int_in_list.append(List[i])\n",
    "        elif isinstance(List[i],str):\n",
    "            str_in_List.append(List[i])\n",
    "        elif isinstance(List[i],float):\n",
    "            float_in_List.append(List[i])\n",
    "        else:\n",
    "            others_in_List.append(List[i])\n",
    "            \n",
    "    print(f'''Given list= {List} \\n \n",
    "list of integers = {int_in_list} \\n \n",
    "list of strings  = {str_in_List} \\n \n",
    "list of float    = {float_in_List} \\n \n",
    "list of others   = {others_in_List}''')"
   ]
  },
  {
   "cell_type": "code",
   "execution_count": 195,
   "metadata": {},
   "outputs": [
    {
     "name": "stdout",
     "output_type": "stream",
     "text": [
      "Given list= [1, 2, 3, 4, 5, 'a', 6, 7, 8, 9, 10] \n",
      " \n",
      "list of integers = [1, 2, 3, 4, 5, 6, 7, 8, 9, 10] \n",
      " \n",
      "list of strings  = ['a'] \n",
      " \n",
      "list of float    = [] \n",
      " \n",
      "list of others   = []\n"
     ]
    }
   ],
   "source": [
    "l= [1, 2, 3, 4, 5,'a', 6, 7, 8, 9, 10]\n",
    "sortlist(l)"
   ]
  },
  {
   "cell_type": "code",
   "execution_count": 4,
   "metadata": {},
   "outputs": [],
   "source": [
    "#A square matrix N*N is expressed as list. \n",
    "#Write a function that calculates the sum of diagonal elements.\n",
    "#Note that there will be two diagonals in a square matrix.\n",
    "def matrixsdiag(List):\n",
    "    d1 = 0 #Principal diagonal\n",
    "    d2 = 0 #secondary diagonal\n",
    "    N = len(List)-1\n",
    "    for i in range(N+1):\n",
    "        d1 = d1 + List[i][i]\n",
    "        d2 = d2 + List[i][N -(i+1)]\n",
    "    print('Sum of the diagonals are:')\n",
    "    print(f'Principal diagonal = {d1}')\n",
    "    print(f'Secondary duagonal = {d2}')\n",
    "    print(f'sum of both the diagonal elements are = {d1+d2}')\n",
    "            \n"
   ]
  },
  {
   "cell_type": "code",
   "execution_count": 6,
   "metadata": {},
   "outputs": [
    {
     "name": "stdout",
     "output_type": "stream",
     "text": [
      "Sum of the diagonals are:\n",
      "Principal diagonal = 10\n",
      "Secondary duagonal = 10\n",
      "sum of both the diagonal elements are = 20\n"
     ]
    }
   ],
   "source": [
    "l=[[1,2,3,4],[1,2,3,4],[1,2,3,4],[1,2,3,4]]\n",
    "matrixsdiag(l)"
   ]
  },
  {
   "cell_type": "code",
   "execution_count": 2,
   "metadata": {},
   "outputs": [],
   "source": []
  },
  {
   "cell_type": "code",
   "execution_count": null,
   "metadata": {},
   "outputs": [],
   "source": []
  },
  {
   "cell_type": "code",
   "execution_count": null,
   "metadata": {},
   "outputs": [],
   "source": []
  }
 ],
 "metadata": {
  "kernelspec": {
   "display_name": "Python 3",
   "language": "python",
   "name": "python3"
  },
  "language_info": {
   "codemirror_mode": {
    "name": "ipython",
    "version": 3
   },
   "file_extension": ".py",
   "mimetype": "text/x-python",
   "name": "python",
   "nbconvert_exporter": "python",
   "pygments_lexer": "ipython3",
   "version": "3.7.3"
  }
 },
 "nbformat": 4,
 "nbformat_minor": 2
}
