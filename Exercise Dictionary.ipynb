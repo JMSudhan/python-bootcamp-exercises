{
 "cells": [
  {
   "cell_type": "code",
   "execution_count": 32,
   "metadata": {},
   "outputs": [
    {
     "name": "stdout",
     "output_type": "stream",
     "text": [
      "{'Anto': 3215165216, 'Dhana': 154465456252, 'George': 323263256, 'Kandhan': 211245424543, 'Sudhakar': 445454546323, 'Karthi': 5465354635}\n"
     ]
    }
   ],
   "source": [
    "#Define a dictionary for storing contacts lists.\n",
    "#name as key, value as phone number\n",
    "#print the dictionary\n",
    "\n",
    "contacts = {'Anto':3215165216, 'Dhana':154465456252, 'George':323263256, 'Kandhan':211245424543, 'Sudhakar':445454546323, 'Karthi':5465354635}\n",
    "print(contacts)"
   ]
  },
  {
   "cell_type": "code",
   "execution_count": 8,
   "metadata": {},
   "outputs": [
    {
     "name": "stdout",
     "output_type": "stream",
     "text": [
      "3215165216 \n",
      " 445454546323\n"
     ]
    }
   ],
   "source": [
    "#For the dictionary defined in the previous problem, print all the values by using the key as index.\n",
    "\n",
    "print(contacts['Anto'],'\\n',contacts['Sudhakar'])"
   ]
  },
  {
   "cell_type": "code",
   "execution_count": 10,
   "metadata": {},
   "outputs": [
    {
     "name": "stdout",
     "output_type": "stream",
     "text": [
      "I have deleberately given the key with all small char to get a key error.\n"
     ]
    }
   ],
   "source": [
    "#Try printing the value of the key that does not exist and observe the behavior\n",
    "try:\n",
    "    print(contacts['sudhakar'])\n",
    "except KeyError:\n",
    "    print('I have deleberately given the key with all small char to get a key error.')"
   ]
  },
  {
   "cell_type": "code",
   "execution_count": 18,
   "metadata": {},
   "outputs": [
    {
     "name": "stdout",
     "output_type": "stream",
     "text": [
      "\n",
      " The keys in the dictionary \"contacts\" are \n",
      " dict_keys(['Anto', 'Dhana', 'George', 'Kandhan', 'Sudhakar', 'Karthi'])\n",
      "\n",
      " The values in the dictionary \"contacts\" are \n",
      " dict_values([3215165216, 154465456252, 323263256, 211245424543, 445454546323, 5465354635])\n",
      "\n",
      " The items in the dictionary \"contacts\" are \n",
      " dict_items([('Anto', 3215165216), ('Dhana', 154465456252), ('George', 323263256), ('Kandhan', 211245424543), ('Sudhakar', 445454546323), ('Karthi', 5465354635)])\n"
     ]
    }
   ],
   "source": [
    "#For the dictionary defined in the previous problem, print the following.\n",
    "\n",
    "#print all the keys\n",
    "print('\\n The keys in the dictionary \"contacts\" are \\n',contacts.keys())\n",
    "#print all the values\n",
    "print('\\n The values in the dictionary \"contacts\" are \\n',contacts.values())\n",
    "#print key - value pairs\n",
    "print('\\n The items in the dictionary \"contacts\" are \\n',contacts.items())"
   ]
  },
  {
   "cell_type": "code",
   "execution_count": 21,
   "metadata": {},
   "outputs": [
    {
     "data": {
      "text/plain": [
       "5465354635"
      ]
     },
     "execution_count": 21,
     "metadata": {},
     "output_type": "execute_result"
    }
   ],
   "source": [
    "#Using dictionary's get method, retrieve the following.\n",
    "#value of the key that exists\n",
    "\n",
    "contacts.get('Karthi')"
   ]
  },
  {
   "cell_type": "code",
   "execution_count": 22,
   "metadata": {},
   "outputs": [
    {
     "name": "stdout",
     "output_type": "stream",
     "text": [
      "None\n"
     ]
    }
   ],
   "source": [
    "#value of the key that does not exist\n",
    "print(contacts.get('sudhakar'))"
   ]
  },
  {
   "cell_type": "code",
   "execution_count": 24,
   "metadata": {},
   "outputs": [],
   "source": [
    "#value of the key that does not exist but passing a default value to get method\n",
    "\n"
   ]
  },
  {
   "cell_type": "code",
   "execution_count": 38,
   "metadata": {},
   "outputs": [
    {
     "name": "stdout",
     "output_type": "stream",
     "text": [
      "{'Anto': 45789546265, 'Dhana': 5432454635, 'George': 323263256, 'Kandhan': 211245424543, 'Sudhakar': 445454546323, 'Karthi': 5465354635, 'karthi': 54424322546}\n",
      "\n",
      " {'Anto': 45789546265, 'Dhana': 5432454635, 'George': 323263256, 'Kandhan': 211245424543, 'Sudhakar': 445454546323, 'Karthi': 5465354635, 'karthi': 54424322546, 'Sudhakar_s2': 2165432313}\n"
     ]
    }
   ],
   "source": [
    "#Add a contact name and phone to the dictionary.\n",
    "print(contacts)\n",
    "contacts['Sudhakar_s2'] = 2165432313\n",
    "print('\\n',contacts)"
   ]
  },
  {
   "cell_type": "code",
   "execution_count": 34,
   "metadata": {},
   "outputs": [
    {
     "name": "stdout",
     "output_type": "stream",
     "text": [
      "{'Anto': 3215165216, 'Dhana': 154465456252, 'George': 323263256, 'Kandhan': 211245424543, 'Sudhakar': 445454546323, 'Karthi': 5465354635, 'Sudhakar_s2': 2165432313}\n",
      "\n",
      " {'Anto': 45789546265, 'Dhana': 154465456252, 'George': 323263256, 'Kandhan': 211245424543, 'Sudhakar': 445454546323, 'Karthi': 5465354635, 'Sudhakar_s2': 2165432313}\n"
     ]
    }
   ],
   "source": [
    "#Now, one of your friends has changed his mobile number, write the code snippet to update his phone number.\n",
    "#lets consider anto has changed his number to 45789546265\n",
    "print(contacts)\n",
    "contacts['Anto'] = 45789546265\n",
    "print('\\n',contacts)"
   ]
  },
  {
   "cell_type": "code",
   "execution_count": 36,
   "metadata": {},
   "outputs": [
    {
     "data": {
      "text/plain": [
       "{'Anto': 45789546265,\n",
       " 'Dhana': 5432454635,\n",
       " 'George': 323263256,\n",
       " 'Kandhan': 211245424543,\n",
       " 'Sudhakar': 445454546323,\n",
       " 'Karthi': 5465354635,\n",
       " 'Sudhakar_s2': 2165432313,\n",
       " 'karthi': 54424322546}"
      ]
     },
     "execution_count": 36,
     "metadata": {},
     "output_type": "execute_result"
    }
   ],
   "source": [
    "#Few of your friends have changed their mobile number \n",
    "#write the code to update their numbers in your contacts directory using dictionary's update() method. \n",
    "#Observe what happens.\n",
    "#using update you can update mutiple keys in a single go.\n",
    "\n",
    "contacts.update({'karthi':54424322546, 'Dhana':5432454635})\n",
    "contacts"
   ]
  },
  {
   "cell_type": "code",
   "execution_count": 39,
   "metadata": {},
   "outputs": [],
   "source": [
    "#Write the code to delete/remove a key using del\n",
    "#consider Sudhakar lost his sim 2, remove 'Sudhakar_s2'\n",
    "#and entered karthi name twice instead of 'K' i entered 'k', which instead of updating entered as new entry.\n",
    "#let's delete both the contacts\n",
    "del(contacts['Sudhakar_s2'],contacts['Karthi'])"
   ]
  },
  {
   "cell_type": "code",
   "execution_count": 40,
   "metadata": {},
   "outputs": [
    {
     "data": {
      "text/plain": [
       "{'Anto': 45789546265,\n",
       " 'Dhana': 5432454635,\n",
       " 'George': 323263256,\n",
       " 'Kandhan': 211245424543,\n",
       " 'Sudhakar': 445454546323,\n",
       " 'karthi': 54424322546}"
      ]
     },
     "execution_count": 40,
     "metadata": {},
     "output_type": "execute_result"
    }
   ],
   "source": [
    "contacts"
   ]
  },
  {
   "cell_type": "code",
   "execution_count": 43,
   "metadata": {},
   "outputs": [
    {
     "name": "stdout",
     "output_type": "stream",
     "text": [
      "1234567890\n"
     ]
    }
   ],
   "source": [
    "#Write the code to delete/remove a key using dictionary's pop method.\n",
    "contacts['dummy'] = 1234567890\n",
    "print(contacts.pop('dummy'))"
   ]
  },
  {
   "cell_type": "code",
   "execution_count": 44,
   "metadata": {},
   "outputs": [],
   "source": [
    "#What is the difference between deleting keys using del versus pop method?\n",
    "\n",
    "#when we use 'del' function it delete the selected key value pair entirely and it doesn't return anything\n",
    "#where as 'pop' function deletes the mentioned key and return the value of that key"
   ]
  },
  {
   "cell_type": "code",
   "execution_count": 45,
   "metadata": {},
   "outputs": [
    {
     "name": "stdout",
     "output_type": "stream",
     "text": [
      "The length of the given dictionary is = 6\n"
     ]
    }
   ],
   "source": [
    "def flendict(dictionary):\n",
    "    print(f'The length of the given dictionary is = {len(dictionary)}')\n",
    "\n",
    "flendict(contacts)"
   ]
  },
  {
   "cell_type": "code",
   "execution_count": 54,
   "metadata": {},
   "outputs": [
    {
     "name": "stdout",
     "output_type": "stream",
     "text": [
      "Anto\n",
      "Dhana\n",
      "George\n",
      "Kandhan\n",
      "Sudhakar\n",
      "karthi\n"
     ]
    }
   ],
   "source": [
    "#Loop through the dictionary and print all the keys\n",
    "\n",
    "for i in contacts.keys():\n",
    "    print(i)"
   ]
  },
  {
   "cell_type": "code",
   "execution_count": 55,
   "metadata": {},
   "outputs": [
    {
     "name": "stdout",
     "output_type": "stream",
     "text": [
      "45789546265\n",
      "5432454635\n",
      "323263256\n",
      "211245424543\n",
      "445454546323\n",
      "54424322546\n"
     ]
    }
   ],
   "source": [
    "#Loop through the dictionary and print all the values\n",
    "\n",
    "for i in contacts.keys():\n",
    "    print(contacts[i])"
   ]
  },
  {
   "cell_type": "code",
   "execution_count": 57,
   "metadata": {},
   "outputs": [
    {
     "name": "stdout",
     "output_type": "stream",
     "text": [
      "('Anto', 45789546265)\n",
      "('Dhana', 5432454635)\n",
      "('George', 323263256)\n",
      "('Kandhan', 211245424543)\n",
      "('Sudhakar', 445454546323)\n",
      "('karthi', 54424322546)\n"
     ]
    }
   ],
   "source": [
    "#Loop through the dictionary and print all the keys and corresponding values as key - value pairs \n",
    "#with each pair printed in a newline\n",
    "\n",
    "for i in contacts.items():\n",
    "    print(i)"
   ]
  },
  {
   "cell_type": "code",
   "execution_count": null,
   "metadata": {},
   "outputs": [],
   "source": []
  }
 ],
 "metadata": {
  "kernelspec": {
   "display_name": "Python 3",
   "language": "python",
   "name": "python3"
  },
  "language_info": {
   "codemirror_mode": {
    "name": "ipython",
    "version": 3
   },
   "file_extension": ".py",
   "mimetype": "text/x-python",
   "name": "python",
   "nbconvert_exporter": "python",
   "pygments_lexer": "ipython3",
   "version": "3.7.3"
  }
 },
 "nbformat": 4,
 "nbformat_minor": 2
}
