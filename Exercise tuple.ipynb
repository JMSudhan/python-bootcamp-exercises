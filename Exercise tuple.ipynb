{
 "cells": [
  {
   "cell_type": "code",
   "execution_count": 2,
   "metadata": {},
   "outputs": [
    {
     "name": "stdout",
     "output_type": "stream",
     "text": [
      "(1, 2, 3, 'a')\n"
     ]
    }
   ],
   "source": [
    "tup = 1,2,3,'a'\n",
    "print(tup)"
   ]
  },
  {
   "cell_type": "code",
   "execution_count": 3,
   "metadata": {},
   "outputs": [],
   "source": [
    "#we are trying to perform all the actions that can be performed using a list\n",
    "#also we will skip the obvious ones that will definitely contain error\n",
    "#lets get started"
   ]
  },
  {
   "cell_type": "code",
   "execution_count": 7,
   "metadata": {},
   "outputs": [
    {
     "data": {
      "text/plain": [
       "tuple"
      ]
     },
     "execution_count": 7,
     "metadata": {},
     "output_type": "execute_result"
    }
   ],
   "source": [
    "#Andhra Pradesh,Arunachal Pradesh ,Assam,Bihar,Chhattisgarh,Goa,Gujarat,Haryana,Himachal Pradesh\n",
    "#Jammu and Kashmir,Jharkhand,Karnataka,Kerala,Madhya Pradesh\n",
    "#Maharashtra,Manipur,Meghalaya,Mizoram,Nagaland,Odisha,Punjab,Rajasthan,Sikkim,Tamil Nadu,Telangana,Tripura,Uttar Pradesh,\n",
    "#Uttarakhand,West Bengal,Andaman and Nicobar Islands\n",
    "#Chandigarh,Dadra and Nagar Haveli,Daman and Diu,Lakshadweep,National Capital Territory of Delhi,Puducherry\n",
    "#deliberatly left Andhra Pradesh,Chhattisgarh and Puducherry for future exercises\n",
    "states = (\"AR\",\"AS\",\"BR\",\"GA\",\"GJ\",\"HR\",\"HP\"\n",
    "          ,\"JK\",\"JH\",\"KA\",\"KL\",\"MP\",\"MH\",\"MN\",\"ML\",\"MZ\",\"NL\",\"OR\",\n",
    "          \"PB\",\"RJ\",\"SK\",\"TN\",\"TE\",\"TR\",\"UP\",\"UK\",\"WB\",\"AN\",\n",
    "          \"CH\",\"DH\",\"DD\",\"LD\",\"DL\")\n",
    "type(states)"
   ]
  },
  {
   "cell_type": "code",
   "execution_count": 8,
   "metadata": {},
   "outputs": [
    {
     "name": "stdout",
     "output_type": "stream",
     "text": [
      "AR\n",
      "<class 'str'>\n"
     ]
    }
   ],
   "source": [
    "#Define the tuple and print the element at the following position\n",
    "#first element in the list\n",
    "print(states[0])\n",
    "print(type(states[0]))"
   ]
  },
  {
   "cell_type": "code",
   "execution_count": 9,
   "metadata": {},
   "outputs": [
    {
     "name": "stdout",
     "output_type": "stream",
     "text": [
      "AS\n"
     ]
    }
   ],
   "source": [
    "#second element in the tuple\n",
    "print(states[1])"
   ]
  },
  {
   "cell_type": "code",
   "execution_count": 11,
   "metadata": {},
   "outputs": [
    {
     "name": "stdout",
     "output_type": "stream",
     "text": [
      "BR\n"
     ]
    }
   ],
   "source": [
    "#third  element in the tuple\n",
    "print(states[2])"
   ]
  },
  {
   "cell_type": "code",
   "execution_count": 12,
   "metadata": {},
   "outputs": [
    {
     "name": "stdout",
     "output_type": "stream",
     "text": [
      "DL\n"
     ]
    }
   ],
   "source": [
    "#last   element in the tuple\n",
    "print(states[-1])"
   ]
  },
  {
   "cell_type": "code",
   "execution_count": 13,
   "metadata": {},
   "outputs": [
    {
     "name": "stdout",
     "output_type": "stream",
     "text": [
      "LD\n"
     ]
    }
   ],
   "source": [
    "#the value at last but one\n",
    "print(states[-2])"
   ]
  },
  {
   "cell_type": "code",
   "execution_count": 14,
   "metadata": {},
   "outputs": [
    {
     "data": {
      "text/plain": [
       "21"
      ]
     },
     "execution_count": 14,
     "metadata": {},
     "output_type": "execute_result"
    }
   ],
   "source": [
    "#print the index of a value in the tuple that is existing\n",
    "states.index(\"TN\")"
   ]
  },
  {
   "cell_type": "code",
   "execution_count": 5,
   "metadata": {},
   "outputs": [
    {
     "name": "stdout",
     "output_type": "stream",
     "text": [
      "the character is not in the tuple\n"
     ]
    }
   ],
   "source": [
    "#print the index of a value that is not in the tuple\n",
    "#will return value error\n",
    "try:\n",
    "    states.index(\"Ti\")\n",
    "except NameError:\n",
    "    print(f'the character is not in the tuple')"
   ]
  },
  {
   "cell_type": "code",
   "execution_count": 15,
   "metadata": {},
   "outputs": [
    {
     "name": "stdout",
     "output_type": "stream",
     "text": [
      "33\n"
     ]
    }
   ],
   "source": [
    "#print the length of the tuple\n",
    "print(len(states))"
   ]
  },
  {
   "cell_type": "code",
   "execution_count": 16,
   "metadata": {},
   "outputs": [
    {
     "name": "stdout",
     "output_type": "stream",
     "text": [
      "('AR', 'AS')\n"
     ]
    }
   ],
   "source": [
    "#print the first and second element of the tuple\n",
    "print(states[0:2])"
   ]
  },
  {
   "cell_type": "code",
   "execution_count": 17,
   "metadata": {},
   "outputs": [
    {
     "name": "stdout",
     "output_type": "stream",
     "text": [
      "('AR', 'AS', 'BR', 'GA', 'GJ')\n"
     ]
    }
   ],
   "source": [
    "#print the first five elements of the tuple.\n",
    "print(states[:5])"
   ]
  },
  {
   "cell_type": "code",
   "execution_count": 18,
   "metadata": {},
   "outputs": [
    {
     "name": "stdout",
     "output_type": "stream",
     "text": [
      "('BR', 'GA')\n"
     ]
    },
    {
     "data": {
      "text/plain": [
       "(2, 3)"
      ]
     },
     "execution_count": 18,
     "metadata": {},
     "output_type": "execute_result"
    }
   ],
   "source": [
    "#print the third and fourth element of the tuple.\n",
    "print(states[2:4])\n",
    "states.index(states[2]),states.index(states[3])"
   ]
  },
  {
   "cell_type": "code",
   "execution_count": 96,
   "metadata": {},
   "outputs": [
    {
     "name": "stdout",
     "output_type": "stream",
     "text": [
      "(4, 3, 2, 1)\n"
     ]
    }
   ],
   "source": [
    "#Reverse a tuple\n",
    "#exercise page 3 number 5\n",
    "n=(1,2,3,4)\n",
    "print(n[::-1])"
   ]
  },
  {
   "cell_type": "code",
   "execution_count": 97,
   "metadata": {},
   "outputs": [],
   "source": [
    "#Define the following tuple\n",
    "#list of districts in your state.\n",
    "TN = ('CHE', 'SAL', 'MAD', 'KAN', 'TRL')"
   ]
  },
  {
   "cell_type": "code",
   "execution_count": 98,
   "metadata": {},
   "outputs": [],
   "source": [
    "#list of districts in your neighboring states with each of the neighboring state in a separate tuple.\n",
    "KL = ('COC', 'TRN', 'KOZ', 'KOT', 'WAY')\n",
    "KA = ('BAG', 'BLU', 'BLR', 'BID', 'CHA')\n",
    "AP = ('ANA', 'NEL', 'KAD', 'GUN', 'CHI')\n",
    "TE = ('HYD', 'NIZ', 'SEC', 'PED', 'WAN')"
   ]
  },
  {
   "cell_type": "code",
   "execution_count": 99,
   "metadata": {},
   "outputs": [],
   "source": [
    "#create a tuple called \"states\" and add all the lists created above to list \"states\". So, this will be a tuple containing tuple\n",
    "states = (TN, KL, KA, AP, TE)"
   ]
  },
  {
   "cell_type": "code",
   "execution_count": 100,
   "metadata": {},
   "outputs": [
    {
     "name": "stdout",
     "output_type": "stream",
     "text": [
      "2062256338376\n",
      "(1, 2, 3, 4, 5, 6, 7, 8, 9, 10)\n",
      "2062258210888\n"
     ]
    }
   ],
   "source": [
    "#Define two tuple and add all the elements of second tuple to the first.\n",
    "first = 1, 2, 3, 4, 5\n",
    "print(id(first))\n",
    "second = 6, 7, 8, 9, 10\n",
    "first = first + second\n",
    "print(first)\n",
    "print(id(first))\n",
    "#In this method it'll be stored in a different memory location"
   ]
  },
  {
   "cell_type": "code",
   "execution_count": 101,
   "metadata": {},
   "outputs": [
    {
     "data": {
      "text/plain": [
       "('Jothi', 'Class XII', 'Sec C', 'Comp', 'Phy', 'Che', 'Mat')"
      ]
     },
     "execution_count": 101,
     "metadata": {},
     "output_type": "execute_result"
    }
   ],
   "source": [
    "#Define two tuple and add the elements of both tuple to another common tuple. \n",
    "#Ensure that first and second list should not be altered.\n",
    "Stud = ('Jothi', 'Class XII', 'Sec C')\n",
    "Group = ('Comp', 'Phy', 'Che', 'Mat')\n",
    "Std_gr= Stud + Group\n",
    "Std_gr"
   ]
  },
  {
   "cell_type": "code",
   "execution_count": 102,
   "metadata": {},
   "outputs": [
    {
     "name": "stdout",
     "output_type": "stream",
     "text": [
      "('0', 'a', 'c', 'd', 'g', 'h', 'p', 'z')\n",
      "('z', 'p', 'h', 'g', 'd', 'c', 'a', '0')\n"
     ]
    }
   ],
   "source": [
    "#sort a tuple \n",
    "#ascending order\n",
    "#descending order\n",
    "lis = ('d','0','g','a','h','c','p','z')\n",
    "lis = list(lis)\n",
    "lis.sort()\n",
    "lis = tuple(lis)\n",
    "print(lis)\n",
    "lis = list(lis)\n",
    "lis.sort(reverse = True)\n",
    "lis = tuple(lis)\n",
    "print(lis)"
   ]
  },
  {
   "cell_type": "code",
   "execution_count": 103,
   "metadata": {},
   "outputs": [
    {
     "name": "stdout",
     "output_type": "stream",
     "text": [
      "('120496jmsapr', '12jms', 'Jothi12', 'MJMS1496')\n",
      "('MJMS1496', 'Jothi12', '12jms', '120496jmsapr')\n"
     ]
    }
   ],
   "source": [
    "#Repeat for the tuple that has alphanumeric values\n",
    "#exercise page 12 number 1\n",
    "password = ('Jothi12', '12jms', 'MJMS1496', '120496jmsapr')\n",
    "lis = list(password)\n",
    "lis.sort()\n",
    "password = tuple(lis)\n",
    "print(password)\n",
    "lis = list(password)\n",
    "lis.sort(reverse = True)\n",
    "password = tuple(lis)\n",
    "print(password)"
   ]
  },
  {
   "cell_type": "code",
   "execution_count": 104,
   "metadata": {},
   "outputs": [
    {
     "name": "stdout",
     "output_type": "stream",
     "text": [
      "[3, 4, 5, 6, 7, 8, 9, 24, 53, 54, 63, 75, 84]\n",
      "[84, 75, 63, 54, 53, 24, 9, 8, 7, 6, 5, 4, 3]\n"
     ]
    }
   ],
   "source": [
    "#Repeat for the tuple that has int values\n",
    "#exercise page 12 number 1\n",
    "num = (5,4,3,8,9,7,63,54,6,53,75,84,24)\n",
    "num.sort()\n",
    "print(num)\n",
    "num.sort(reverse = True)\n",
    "print(num)"
   ]
  },
  {
   "cell_type": "code",
   "execution_count": 113,
   "metadata": {},
   "outputs": [
    {
     "name": "stdout",
     "output_type": "stream",
     "text": [
      "4\n"
     ]
    },
    {
     "ename": "ValueError",
     "evalue": "tuple.index(x): x not in tuple",
     "output_type": "error",
     "traceback": [
      "\u001b[1;31m---------------------------------------------------------------------------\u001b[0m",
      "\u001b[1;31mValueError\u001b[0m                                Traceback (most recent call last)",
      "\u001b[1;32m<ipython-input-113-c1fb1b9cbb9b>\u001b[0m in \u001b[0;36m<module>\u001b[1;34m\u001b[0m\n\u001b[0;32m      4\u001b[0m \u001b[0msecond\u001b[0m \u001b[1;33m=\u001b[0m \u001b[1;33m(\u001b[0m\u001b[1;36m1\u001b[0m\u001b[1;33m,\u001b[0m \u001b[1;36m2\u001b[0m\u001b[1;33m,\u001b[0m \u001b[1;36m3\u001b[0m\u001b[1;33m,\u001b[0m \u001b[1;36m4\u001b[0m\u001b[1;33m)\u001b[0m\u001b[1;33m\u001b[0m\u001b[1;33m\u001b[0m\u001b[0m\n\u001b[0;32m      5\u001b[0m \u001b[0mprint\u001b[0m\u001b[1;33m(\u001b[0m\u001b[0mfirst\u001b[0m\u001b[1;33m.\u001b[0m\u001b[0mindex\u001b[0m\u001b[1;33m(\u001b[0m\u001b[1;36m5\u001b[0m\u001b[1;33m)\u001b[0m\u001b[1;33m)\u001b[0m\u001b[1;33m\u001b[0m\u001b[1;33m\u001b[0m\u001b[0m\n\u001b[1;32m----> 6\u001b[1;33m \u001b[0mprint\u001b[0m\u001b[1;33m(\u001b[0m\u001b[0msecond\u001b[0m\u001b[1;33m.\u001b[0m\u001b[0mindex\u001b[0m\u001b[1;33m(\u001b[0m\u001b[1;36m5\u001b[0m\u001b[1;33m)\u001b[0m\u001b[1;33m)\u001b[0m\u001b[1;33m\u001b[0m\u001b[1;33m\u001b[0m\u001b[0m\n\u001b[0m\u001b[0;32m      7\u001b[0m \u001b[1;31m#will return value error\u001b[0m\u001b[1;33m\u001b[0m\u001b[1;33m\u001b[0m\u001b[1;33m\u001b[0m\u001b[0m\n",
      "\u001b[1;31mValueError\u001b[0m: tuple.index(x): x not in tuple"
     ]
    }
   ],
   "source": [
    "#Find the index of 5 in the following tuple\n",
    "\n",
    "first = (1, 2, 3, 4, 5)\n",
    "second = (1, 2, 3, 4)\n",
    "print(first.index(5))\n",
    "print(second.index(5))\n",
    "#will return value error"
   ]
  },
  {
   "cell_type": "code",
   "execution_count": 95,
   "metadata": {},
   "outputs": [
    {
     "name": "stdout",
     "output_type": "stream",
     "text": [
      "ValueError: could not find the index for 6 in the given list\n"
     ]
    }
   ],
   "source": [
    "first = (1, 2, 3, 4, 5)\n",
    "try:\n",
    "    print(first.index(6))\n",
    "except ValueError:\n",
    "    print (f'ValueError: could not find the index for {6} in the given list')\n"
   ]
  },
  {
   "cell_type": "code",
   "execution_count": 1,
   "metadata": {},
   "outputs": [
    {
     "name": "stdout",
     "output_type": "stream",
     "text": [
      "enter space seperated values: jo ldk k sd kdnl j\n",
      "('jo', 'ldk', 'k', 'sd', 'kdnl', 'j')\n",
      "enter the element or value: j\n",
      "The index of the value or element j present in the list is 5\n"
     ]
    }
   ],
   "source": [
    "#Find whether an element/value present in a tuple.\n",
    "inp_str = input(\"enter space seperated values: \")\n",
    "List = inp_str.split()\n",
    "tup = tuple(List)\n",
    "print(tup)\n",
    "value = input(\"enter the element or value: \")\n",
    "if value in tup:\n",
    "    print(f'The index of the value or element {value} present in the list is {List.index(value)}')\n",
    "else :\n",
    "    print(f'The index of the value or element {value} is not present in the list')"
   ]
  },
  {
   "cell_type": "code",
   "execution_count": 2,
   "metadata": {},
   "outputs": [
    {
     "name": "stdout",
     "output_type": "stream",
     "text": [
      "1\n",
      "2\n",
      "3\n",
      "4\n",
      "5\n"
     ]
    }
   ],
   "source": [
    "#Define a tuple and loop through it. Print the value at each index.\n",
    "first = (1, 2, 3, 4, 5)\n",
    "for i in range(len(first)):\n",
    "    print(first[i])"
   ]
  },
  {
   "cell_type": "code",
   "execution_count": 6,
   "metadata": {},
   "outputs": [
    {
     "name": "stdout",
     "output_type": "stream",
     "text": [
      "Mat\n",
      "0\n",
      "Dam\n",
      "1\n",
      "Henry\n",
      "2\n",
      "87\n",
      "3\n",
      "abC1\n",
      "4\n"
     ]
    }
   ],
   "source": [
    "#Define a tuple and loop through it. \n",
    "#Print the value at each index along with index value\n",
    "first = ('Mat', 'Dam', 'Henry', 87, 'abC1')\n",
    "for i in range(len(first)):\n",
    "    print(first[i])\n",
    "    print(first.index(first[i]))"
   ]
  },
  {
   "cell_type": "code",
   "execution_count": 7,
   "metadata": {},
   "outputs": [
    {
     "name": "stdout",
     "output_type": "stream",
     "text": [
      "Mat\n",
      "1\n",
      "Dam\n",
      "2\n",
      "Henry\n",
      "3\n",
      "87\n",
      "4\n",
      "abC1\n",
      "5\n"
     ]
    }
   ],
   "source": [
    "#Define a tuple and loop through it. \n",
    "#Print the value at each index along with index values and the index value should start from 1\n",
    "first = ('Mat', 'Dam', 'Henry', 87, 'abC1')\n",
    "for i in range(len(first)):\n",
    "    print(first[i])\n",
    "    print(first.index(first[i])+1)"
   ]
  },
  {
   "cell_type": "code",
   "execution_count": 14,
   "metadata": {},
   "outputs": [
    {
     "name": "stdout",
     "output_type": "stream",
     "text": [
      "The friends i play PUBG with are Antony, Dhana, George\n"
     ]
    }
   ],
   "source": [
    "#Create a tuple of names of your friends. \n",
    "#Create a friendship string with names of your friends separated by comma\n",
    "friends = ('Antony', 'Dhana', 'George')\n",
    "friendship = ', '.join(friends)\n",
    "print(f'The friends i play PUBG with are {friendship}')"
   ]
  },
  {
   "cell_type": "code",
   "execution_count": 15,
   "metadata": {},
   "outputs": [
    {
     "name": "stdout",
     "output_type": "stream",
     "text": [
      "('Antony', 'Dhana', 'George')\n"
     ]
    }
   ],
   "source": [
    "#Take the friendship string (output of previous problem) and convert it back to string using split\n",
    "fr_split= tuple(friendship.split(sep=', '))\n",
    "print(fr_split)"
   ]
  },
  {
   "cell_type": "code",
   "execution_count": 18,
   "metadata": {},
   "outputs": [
    {
     "name": "stdout",
     "output_type": "stream",
     "text": [
      " list containing first two elements \n",
      " (1, 2)\n",
      " a list contain elements from third position(index2) to sixth position \n",
      " (3, 4, 5, 6, 7)\n",
      " a list containing last two elements, method 1(reversed) \n",
      " (10, 9)\n",
      " a list containing last two elements, method 2(non reversed) \n",
      " (9, 10)\n",
      " a list containing sixth and seventh position \n",
      " (7, 8)\n",
      " a list contain elements from first to last but one \n",
      " (1, 2, 3, 4, 5, 6, 7, 8, 9)\n",
      " a list containing last four elements, method 1(reversed) \n",
      " (10, 9, 8, 7)\n",
      " a list containing last four elements, method 2(non reversed) \n",
      " (7, 8, 9, 10)\n",
      " a list containing first and last elements \n",
      " (1, 10)\n"
     ]
    }
   ],
   "source": [
    "#From the tuple \"numbers = (1, 2, 3, 4, 5, 6, 7, 8, 9, 10)\", perform the following and get a new tuple.\n",
    "numbers = (1, 2, 3, 4, 5, 6, 7, 8, 9, 10)\n",
    "\n",
    "#a tuple containing first two elements\n",
    "#sut_1 is sub tuple 1\n",
    "sut_1 = numbers[0:2]\n",
    "print(f' list containing first two elements \\n {sut_1}')\n",
    "\n",
    "#a tuple contain elements from third position(index2) to sixth position\n",
    "sut_2 = numbers[2:7]\n",
    "print(f' a list contain elements from third position(index2) to sixth position \\n {sut_2}')\n",
    "\n",
    "#a tuple containing last two elements\n",
    "sut_3 = numbers[-1:-3:-1]\n",
    "print(f' a list containing last two elements, method 1(reversed) \\n {sut_3}')\n",
    "#if we want sul_3 to be non reversed we can use\n",
    "sut_3_1 = numbers[-1:-3:-1][::-1]\n",
    "print(f' a list containing last two elements, method 2(non reversed) \\n {sut_3_1}')\n",
    "\n",
    "#a tuple containing sixth and seventh position\n",
    "sut_4 = numbers[6:8]\n",
    "print(f' a list containing sixth and seventh position \\n {sut_4}')\n",
    "\n",
    "#a tuple contain elements from first to last but one\n",
    "sut_5 = numbers[0:(len(numbers)-1)]\n",
    "print(f' a list contain elements from first to last but one \\n {sut_5}')\n",
    "\n",
    "#a tuple containing last four elements\n",
    "sut_6 = numbers[-1:-5:-1]\n",
    "print(f' a list containing last four elements, method 1(reversed) \\n {sut_6}')\n",
    "#if we want sul_6 to be non reversed we can use\n",
    "sut_6_1 = numbers[-1:-5:-1][::-1]\n",
    "print(f' a list containing last four elements, method 2(non reversed) \\n {sut_6_1}')\n",
    "\n",
    "#a tuple containing first and last elements\n",
    "sut_7 = numbers[0],numbers[-1]\n",
    "print(f' a list containing first and last elements \\n {sut_7}')"
   ]
  },
  {
   "cell_type": "code",
   "execution_count": 43,
   "metadata": {},
   "outputs": [],
   "source": [
    "#Write a function that creates a separate tuple for \n",
    "#integer, float, string and everything else.\n",
    "\n",
    "def sorttuple(tup):\n",
    "    int_in_tuple = ()\n",
    "    str_in_tuple = ()\n",
    "    float_in_tuple = ()\n",
    "    others_in_tuple = ()\n",
    "    for i in range(len(tup)):\n",
    "        if isinstance(tup[i],int) :\n",
    "            int_in_tuple = int_in_tuple[0:(i+1)]+(tup[i],)\n",
    "        elif isinstance(tup[i],str):\n",
    "            str_in_tuple= str_in_tuple[0:(i+1)]+(tup[i],)\n",
    "        elif isinstance(tup[i],float):\n",
    "            float_in_tuple= float_in_tuple[0:(i+1)]+(tup[i],)\n",
    "        else:\n",
    "            others_in_tuple= others_in_tuple[0:(i+1)]+(tup[i],)\n",
    "            \n",
    "    print(f'''Given list= {tup} \\n \n",
    "list of integers = {int_in_tuple} \\n \n",
    "list of strings  = {str_in_tuple} \\n \n",
    "list of float    = {float_in_tuple} \\n \n",
    "list of others   = {others_in_tuple}''')"
   ]
  },
  {
   "cell_type": "code",
   "execution_count": 44,
   "metadata": {},
   "outputs": [
    {
     "name": "stdout",
     "output_type": "stream",
     "text": [
      "Given list= (1, 2, 3, 4, 5, 'a', 6, 7, 8, 9, 10) \n",
      " \n",
      "list of integers = (1, 2, 3, 4, 5, 6, 7, 8, 9, 10) \n",
      " \n",
      "list of strings  = ('a',) \n",
      " \n",
      "list of float    = () \n",
      " \n",
      "list of others   = ()\n"
     ]
    }
   ],
   "source": [
    "l= (1, 2, 3, 4, 5,'a', 6, 7, 8, 9, 10)\n",
    "sorttuple(l)"
   ]
  },
  {
   "cell_type": "code",
   "execution_count": 45,
   "metadata": {},
   "outputs": [],
   "source": [
    "#A square matrix N*N is expressed as tuple. \n",
    "#Write a function that calculates the sum of diagonal elements.\n",
    "#Note that there will be two diagonals in a square matrix.\n",
    "def matrixsdiag(tup):\n",
    "    d1 = 0 #Principal diagonal\n",
    "    d2 = 0 #secondary diagonal\n",
    "    N = len(tup)-1\n",
    "    for i in range(N+1):\n",
    "        d1 = d1 + tup[i][i]\n",
    "        d2 = d2 + tup[i][N -(i+1)]\n",
    "    print('Sum of the diagonals are:')\n",
    "    print(f'Principal diagonal = {d1}')\n",
    "    print(f'Secondary duagonal = {d2}')\n",
    "    print(f'sum of both the diagonal elements are = {d1+d2}')"
   ]
  },
  {
   "cell_type": "code",
   "execution_count": 46,
   "metadata": {},
   "outputs": [
    {
     "name": "stdout",
     "output_type": "stream",
     "text": [
      "Sum of the diagonals are:\n",
      "Principal diagonal = 10\n",
      "Secondary duagonal = 10\n",
      "sum of both the diagonal elements are = 20\n"
     ]
    }
   ],
   "source": [
    "l=((1,2,3,4),(1,2,3,4),(1,2,3,4),(1,2,3,4))\n",
    "matrixsdiag(l)"
   ]
  },
  {
   "cell_type": "code",
   "execution_count": null,
   "metadata": {},
   "outputs": [],
   "source": []
  }
 ],
 "metadata": {
  "kernelspec": {
   "display_name": "Python 3",
   "language": "python",
   "name": "python3"
  },
  "language_info": {
   "codemirror_mode": {
    "name": "ipython",
    "version": 3
   },
   "file_extension": ".py",
   "mimetype": "text/x-python",
   "name": "python",
   "nbconvert_exporter": "python",
   "pygments_lexer": "ipython3",
   "version": "3.7.3"
  }
 },
 "nbformat": 4,
 "nbformat_minor": 2
}
