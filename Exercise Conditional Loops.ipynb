{
 "cells": [
  {
   "cell_type": "code",
   "execution_count": 13,
   "metadata": {},
   "outputs": [
    {
     "name": "stdout",
     "output_type": "stream",
     "text": [
      "8 is even\n"
     ]
    }
   ],
   "source": [
    "#Write a program that checks whether a number is even. \n",
    "#If it is even, just print that the number is even\n",
    "\n",
    "def iseven(x):\n",
    "    if x%2 == 0:\n",
    "        print(f'{x} is even')\n",
    "    else:\n",
    "        print(f'{x} is not even')\n",
    "        \n",
    "iseven(8)"
   ]
  },
  {
   "cell_type": "code",
   "execution_count": 11,
   "metadata": {},
   "outputs": [
    {
     "name": "stdout",
     "output_type": "stream",
     "text": [
      "2 is even\n",
      "3 is odd\n",
      "4 is even\n",
      "7 is odd\n"
     ]
    }
   ],
   "source": [
    "#Write a program that checks whether a number is even or odd. \n",
    "#Print a message that it is even or odd. \n",
    "\n",
    "def isevenodd(x):\n",
    "    if x%2 == 0:\n",
    "        print(f'{x} is even')\n",
    "    else:\n",
    "        print(f'{x} is odd')\n",
    "        \n",
    "isevenodd(2)\n",
    "isevenodd(3)\n",
    "isevenodd(4)\n",
    "isevenodd(7)\n"
   ]
  },
  {
   "cell_type": "code",
   "execution_count": 18,
   "metadata": {},
   "outputs": [
    {
     "name": "stdout",
     "output_type": "stream",
     "text": [
      "The average score is = 55\n",
      "Grade:Second class\n"
     ]
    }
   ],
   "source": [
    "#Write a program that takes scores of five subjects as list. \n",
    "#Calculate the average score and print the grade.\n",
    "\n",
    "def grade(List):\n",
    "    average_list = 0\n",
    "    for i in range(len(List)):\n",
    "        average_list = average_list + int(List[i]/len(List))\n",
    "    print(f'The average score is = {average_list}')\n",
    "    \n",
    "    if average_list <=34:\n",
    "        print('Grade:Fail')\n",
    "    elif average_list <=59:\n",
    "        print('Grade:Second class')\n",
    "    elif average_list <=74:\n",
    "        print('Grade:First class')\n",
    "    elif average_list >74:\n",
    "        print('Grade:Second class')\n",
    "\n",
    "grade([55,55,55,55,55])"
   ]
  },
  {
   "cell_type": "code",
   "execution_count": 27,
   "metadata": {},
   "outputs": [
    {
     "name": "stdout",
     "output_type": "stream",
     "text": [
      "The number 45 is divisible by both 5 and 9)\n"
     ]
    }
   ],
   "source": [
    "#Write a program to find whether a given number is a multiple of 5 and also a multiple of 9.\n",
    "def mul_5_9(integer):\n",
    "    if (integer % 5 == 0) and (integer % 9 == 0):\n",
    "        print(f'The number {integer} is divisible by both 5 and 9)')\n",
    "    elif (integer % 5 == 0) and (integer % 9 != 0):\n",
    "        print(f'The number {integer} is divisible by 5 and not by 9)')\n",
    "    elif (integer % 5 != 0) and (integer % 9 == 0):\n",
    "        print(f'The number {integer} is divisible by 9 and not by 5)')\n",
    "    else:\n",
    "        print(f'The number {integer} is not divisible by both 5 and 9)')\n",
    "        \n",
    "mul_5_9(45)"
   ]
  },
  {
   "cell_type": "code",
   "execution_count": 28,
   "metadata": {},
   "outputs": [],
   "source": [
    "#Write a program to find whether a given number is a multiple of 5 or a multiple of 9\n",
    "\n",
    "\n",
    "#the above program itself can be used for this also"
   ]
  },
  {
   "cell_type": "code",
   "execution_count": 29,
   "metadata": {},
   "outputs": [],
   "source": [
    "#Write statements to find out whether the following expressions evaluate to True or False.\n",
    "# False, None, 0, 0.0, '', [], (), {}\n",
    "# it is kown that the boolean value of empty set, list, tuple, None value, integer or float which has 0 will be False"
   ]
  },
  {
   "cell_type": "code",
   "execution_count": 31,
   "metadata": {},
   "outputs": [],
   "source": [
    "#Read about the function 'id' and observe the output.\n",
    "\n",
    "#Return the identity of an object.\n",
    "\n",
    "#What is the relation that it has with operator \"is\"\n",
    "\n",
    "#if we use \"is\" function between 2 variables, it will compare the identity or memory location(\"id\") of those variable and return its truth value"
   ]
  },
  {
   "cell_type": "code",
   "execution_count": 36,
   "metadata": {},
   "outputs": [
    {
     "name": "stdout",
     "output_type": "stream",
     "text": [
      "True\n",
      "True\n",
      "False\n",
      "False\n"
     ]
    }
   ],
   "source": [
    "#Give examples to prove - if a is b, then id(a) equals id(b)\n",
    "\n",
    "a=10\n",
    "b=10\n",
    "print(a is b)\n",
    "print(id(a) == id(b))\n",
    "\n",
    "a=1000\n",
    "b=1000\n",
    "print(a is b)\n",
    "print(id(a) == id(b))"
   ]
  },
  {
   "cell_type": "code",
   "execution_count": 38,
   "metadata": {},
   "outputs": [
    {
     "name": "stdout",
     "output_type": "stream",
     "text": [
      "True\n",
      "True\n",
      "True\n",
      "False\n"
     ]
    }
   ],
   "source": [
    "#Give examples to prove - if a == b, then id(a) need not be equal to id(b)\n",
    "\n",
    "a=10\n",
    "b=10\n",
    "print(a == b)\n",
    "print(id(a) == id(b))\n",
    "\n",
    "a=1000\n",
    "b=1000\n",
    "print(a == b)\n",
    "print(id(a) == id(b))"
   ]
  },
  {
   "cell_type": "code",
   "execution_count": null,
   "metadata": {},
   "outputs": [],
   "source": []
  }
 ],
 "metadata": {
  "kernelspec": {
   "display_name": "Python 3",
   "language": "python",
   "name": "python3"
  },
  "language_info": {
   "codemirror_mode": {
    "name": "ipython",
    "version": 3
   },
   "file_extension": ".py",
   "mimetype": "text/x-python",
   "name": "python",
   "nbconvert_exporter": "python",
   "pygments_lexer": "ipython3",
   "version": "3.7.3"
  }
 },
 "nbformat": 4,
 "nbformat_minor": 2
}
