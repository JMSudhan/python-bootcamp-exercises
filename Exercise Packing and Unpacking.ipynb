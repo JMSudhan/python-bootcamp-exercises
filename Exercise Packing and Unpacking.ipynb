{
 "cells": [
  {
   "cell_type": "code",
   "execution_count": 63,
   "metadata": {},
   "outputs": [
    {
     "name": "stdout",
     "output_type": "stream",
     "text": [
      "[{1, 'g', 2, 4, '1', '3'}, ['h', 435, 'jothi', 435], ((1+2j), 56, 'abx123'), 5]\n"
     ]
    }
   ],
   "source": [
    "#You have a set, a list, a tuple. Create a list that has all items\n",
    "\n",
    "a = {1,2,4,'g','1','3'}\n",
    "b = ['h',435,'jothi',435]\n",
    "c = (1+2j, 56,'abx123')\n",
    "d = 5\n",
    "packed_list = [a,b,c,d]\n",
    "print(packed_list)"
   ]
  },
  {
   "cell_type": "code",
   "execution_count": 76,
   "metadata": {},
   "outputs": [
    {
     "name": "stdout",
     "output_type": "stream",
     "text": [
      "('name', 'Jothi') ('age', 24) ('address', 'chennai')\n"
     ]
    }
   ],
   "source": [
    "#You have a dictionary containing name, age and address. \n",
    "#Unpack and print it as key value pairs\n",
    "\n",
    "dictionay = {'name':'Jothi', 'age':24, 'address':'chennai'}\n",
    "a,b,c = dictionay.items()\n",
    "print(a,b,c)"
   ]
  },
  {
   "cell_type": "code",
   "execution_count": 81,
   "metadata": {},
   "outputs": [
    {
     "name": "stdout",
     "output_type": "stream",
     "text": [
      "name age address\n",
      "Jothi 24 chennai\n"
     ]
    }
   ],
   "source": [
    "dictionay = {'name':'Jothi', 'age':24, 'address':'chennai'}\n",
    "(a,b), (c, d), (e, f) = dictionay.items()\n",
    "print(a, c, e)\n",
    "print(b, d, f)\n"
   ]
  },
  {
   "cell_type": "code",
   "execution_count": 79,
   "metadata": {},
   "outputs": [
    {
     "name": "stdout",
     "output_type": "stream",
     "text": [
      "n = 20, m = 10\n"
     ]
    }
   ],
   "source": [
    "#Swap two variables\n",
    "\n",
    "n=10\n",
    "m=20\n",
    "n,m = m,n\n",
    "print(f'n = {n}, m = {m}')"
   ]
  },
  {
   "cell_type": "code",
   "execution_count": 82,
   "metadata": {},
   "outputs": [],
   "source": [
    "#Write down how unpacking is done\n",
    "\n",
    "#while unpacking make sure the number of elements on the LHS and RHS are equal.\n",
    "#while unpacking the variable present in the LHS is assigned with the corresponding data on the RHS.\n"
   ]
  },
  {
   "cell_type": "code",
   "execution_count": 84,
   "metadata": {},
   "outputs": [],
   "source": [
    "#Write down how extended unpacking is done\n",
    "\n",
    "#same as normal unpacking, but by using *,  RHS is assigned as a list to the element on the LHS which has that*"
   ]
  },
  {
   "cell_type": "code",
   "execution_count": 91,
   "metadata": {},
   "outputs": [
    {
     "data": {
      "text/plain": [
       "{0, '0', 1, 2, 4}"
      ]
     },
     "execution_count": 91,
     "metadata": {},
     "output_type": "execute_result"
    }
   ],
   "source": [
    "#Prove that ordering is on guaranteed while unpacking\n",
    "\n",
    "a = {1,2,4,'0',0}\n",
    "n1,*n2=a\n",
    "a"
   ]
  },
  {
   "cell_type": "code",
   "execution_count": 92,
   "metadata": {},
   "outputs": [
    {
     "name": "stdout",
     "output_type": "stream",
     "text": [
      "0\n",
      "[1, 2, 4, '0']\n"
     ]
    }
   ],
   "source": [
    "print(n1)\n",
    "print(n2)"
   ]
  },
  {
   "cell_type": "code",
   "execution_count": 93,
   "metadata": {},
   "outputs": [],
   "source": [
    "#What will be the output of the following statements\n",
    "\n",
    "lst = [1, 2, 3, [4, 5, [6, 7]]]\n",
    "a, b, *c, (d, *e) = lst"
   ]
  },
  {
   "cell_type": "code",
   "execution_count": 94,
   "metadata": {},
   "outputs": [],
   "source": [
    "#the output of the above statement wil be nothing, \n",
    "#because the elements in the 'lst' is assigned to the variables on the LHS in the second line."
   ]
  },
  {
   "cell_type": "code",
   "execution_count": 97,
   "metadata": {},
   "outputs": [
    {
     "name": "stdout",
     "output_type": "stream",
     "text": [
      "{1, 2, 3, 4, 5, 6, 7, 8, 9}\n",
      "[1, 2, 3, 3, 4, 5, 5, 6, 7, 8, 9, 7]\n"
     ]
    }
   ],
   "source": [
    "s1 = {1, 2, 3}\n",
    "s2 = {3, 4, 5}\n",
    "s3 = {5, 6, 7}\n",
    "s4 = {7, 8, 9}\n",
    "s = {*s1, *s2, *s3, *s4}\n",
    "print(s)\n",
    "l = [*s1, *s2, *s3, *s4]\n",
    "print(l)"
   ]
  },
  {
   "cell_type": "code",
   "execution_count": 96,
   "metadata": {},
   "outputs": [
    {
     "name": "stdout",
     "output_type": "stream",
     "text": [
      "p\n",
      "y\n",
      "['t', 'h', 'o']\n",
      "n\n"
     ]
    }
   ],
   "source": [
    "a, b, *c, d = 'python'\n",
    "print(a)\n",
    "print(b)\n",
    "print(c)\n",
    "print(d)"
   ]
  },
  {
   "cell_type": "code",
   "execution_count": null,
   "metadata": {},
   "outputs": [],
   "source": []
  }
 ],
 "metadata": {
  "kernelspec": {
   "display_name": "Python 3",
   "language": "python",
   "name": "python3"
  },
  "language_info": {
   "codemirror_mode": {
    "name": "ipython",
    "version": 3
   },
   "file_extension": ".py",
   "mimetype": "text/x-python",
   "name": "python",
   "nbconvert_exporter": "python",
   "pygments_lexer": "ipython3",
   "version": "3.7.3"
  }
 },
 "nbformat": 4,
 "nbformat_minor": 2
}
