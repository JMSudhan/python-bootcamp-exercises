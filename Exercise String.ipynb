{
 "cells": [
  {
   "cell_type": "code",
   "execution_count": 8,
   "metadata": {},
   "outputs": [
    {
     "name": "stdout",
     "output_type": "stream",
     "text": [
      "Hello\n"
     ]
    }
   ],
   "source": [
    "#Define a variable named \"greeting\" and assign \"Hello\" to it. \n",
    "#Print the variable greeting using print function.\n",
    "greeting= 'Hello'\n",
    "print(greeting)\n"
   ]
  },
  {
   "cell_type": "code",
   "execution_count": 9,
   "metadata": {},
   "outputs": [
    {
     "name": "stdout",
     "output_type": "stream",
     "text": [
      "input greeting: \n",
      "Enter name: \n",
      " .\n"
     ]
    }
   ],
   "source": [
    "#Define two variables \"greeting\" and \"name\". \n",
    "#Assign a greeting to the variable and your friend's name to the variable name. \n",
    "#Concatenate two strings with a space in between and print the resultant string.\n",
    "greeting =input('input greeting: ')\n",
    "name = input('Enter name: ')\n",
    "print(greeting+\" \"+name+\".\")"
   ]
  },
  {
   "cell_type": "code",
   "execution_count": 134,
   "metadata": {},
   "outputs": [
    {
     "name": "stdout",
     "output_type": "stream",
     "text": [
      "Enter your Quote here: History is written by victors :-Winston Churchill\n",
      "History is written by victors :-Winston Churchill\n"
     ]
    }
   ],
   "source": [
    "#Assign the following string to a variable (name the variable meaningfully) and print them.\n",
    "#print a inspirational quote\n",
    "\n",
    "ins_quote = input(\"Enter your Quote here: \")\n",
    "print(ins_quote)"
   ]
  },
  {
   "cell_type": "code",
   "execution_count": 11,
   "metadata": {},
   "outputs": [
    {
     "name": "stdout",
     "output_type": "stream",
     "text": [
      "variable's value\n"
     ]
    }
   ],
   "source": [
    "#print a text that has single quote in it\n",
    "print(\"variable\\'s value\")"
   ]
  },
  {
   "cell_type": "code",
   "execution_count": 14,
   "metadata": {},
   "outputs": [
    {
     "name": "stdout",
     "output_type": "stream",
     "text": [
      "\"Hello\"\n"
     ]
    }
   ],
   "source": [
    "#print a text that has double quote in it\n",
    "print('\"Hello\"')"
   ]
  },
  {
   "cell_type": "code",
   "execution_count": 15,
   "metadata": {},
   "outputs": [
    {
     "name": "stdout",
     "output_type": "stream",
     "text": [
      "The poem:  \"அகர முதல எழுத்தெல்லாம் ஆதி\n",
      "பகவன் முதற்றே உலகு \n",
      " The Explanation:   Like how tamil words start with agaram(aa),\n",
      "This world starts with the divine God.\n"
     ]
    }
   ],
   "source": [
    "#print a poem\n",
    "poem = \"\"\"\"அகர முதல எழுத்தெல்லாம் ஆதி\n",
    "பகவன் முதற்றே உலகு\"\"\"\n",
    "explanation = \"\"\" Like how tamil words start with agaram(aa),\n",
    "This world starts with the divine God.\"\"\"\n",
    "print(\"The poem: \",poem,'\\n', \"The Explanation: \",explanation)"
   ]
  },
  {
   "cell_type": "code",
   "execution_count": 16,
   "metadata": {},
   "outputs": [
    {
     "name": "stdout",
     "output_type": "stream",
     "text": [
      "46\n"
     ]
    }
   ],
   "source": [
    "#Write a program to print the length of a string (use the function - len)\n",
    "print(len(poem))"
   ]
  },
  {
   "cell_type": "code",
   "execution_count": 17,
   "metadata": {},
   "outputs": [],
   "source": [
    "#Assign the string \"Python is easy to learn\" and print the following.\n",
    "Str = \"Python is easy to learn\""
   ]
  },
  {
   "cell_type": "code",
   "execution_count": 18,
   "metadata": {},
   "outputs": [
    {
     "name": "stdout",
     "output_type": "stream",
     "text": [
      "Python is n\n"
     ]
    }
   ],
   "source": [
    "#substring by slicing\n",
    "print(Str[:6], Str[7:9], Str[-1])"
   ]
  },
  {
   "cell_type": "code",
   "execution_count": 19,
   "metadata": {},
   "outputs": [
    {
     "name": "stdout",
     "output_type": "stream",
     "text": [
      "4\n",
      "10\n"
     ]
    }
   ],
   "source": [
    "#For my testing\n",
    "print(len(Str[Str.find('easy'):Str.find(' t')]))\n",
    "print(Str.find('easy'))"
   ]
  },
  {
   "cell_type": "code",
   "execution_count": 20,
   "metadata": {},
   "outputs": [
    {
     "name": "stdout",
     "output_type": "stream",
     "text": [
      "Python\n"
     ]
    }
   ],
   "source": [
    "#print the string \"Python\"\n",
    "\n",
    "#Str=\"Python is easy to learn\" has alredy been defined\n",
    "\n",
    "letter=''\n",
    "for i in range(len(Str)):\n",
    "    letter = letter+Str[i]\n",
    "    if (letter == 'Python'):\n",
    "        print(letter)"
   ]
  },
  {
   "cell_type": "code",
   "execution_count": 21,
   "metadata": {},
   "outputs": [
    {
     "name": "stdout",
     "output_type": "stream",
     "text": [
      "easy\n"
     ]
    }
   ],
   "source": [
    "#print the string \"easy\"\n",
    "\n",
    "#Str=\"Python is easy to learn\" has alredy been defined\n",
    "\n",
    "letter=''\n",
    "for i in range(Str.find('easy'),len(Str)):\n",
    "    letter = letter+Str[i]\n",
    "    if (letter == 'easy'):\n",
    "        print(letter)"
   ]
  },
  {
   "cell_type": "code",
   "execution_count": 23,
   "metadata": {},
   "outputs": [
    {
     "name": "stdout",
     "output_type": "stream",
     "text": [
      "learn\n"
     ]
    }
   ],
   "source": [
    "#print the string \"learn\"\n",
    "letter=''\n",
    "for i in range(len(Str)):\n",
    "    letter = letter+Str[::-1][i]\n",
    "    if (letter == 'nrael'):\n",
    "        print(letter[::-1])"
   ]
  },
  {
   "cell_type": "code",
   "execution_count": 24,
   "metadata": {},
   "outputs": [
    {
     "name": "stdout",
     "output_type": "stream",
     "text": [
      "n\n"
     ]
    }
   ],
   "source": [
    "#print the last character in the above string\n",
    "print(Str[-1])"
   ]
  },
  {
   "cell_type": "code",
   "execution_count": 25,
   "metadata": {},
   "outputs": [
    {
     "name": "stdout",
     "output_type": "stream",
     "text": [
      "python is easy to learn\n"
     ]
    }
   ],
   "source": [
    "#convert the above string to lower case\n",
    "print(Str.lower())"
   ]
  },
  {
   "cell_type": "code",
   "execution_count": 26,
   "metadata": {},
   "outputs": [
    {
     "name": "stdout",
     "output_type": "stream",
     "text": [
      "PYTHON IS EASY TO LEARN\n"
     ]
    }
   ],
   "source": [
    "#convert the above string to upper case\n",
    "\n",
    "print(Str.upper())"
   ]
  },
  {
   "cell_type": "code",
   "execution_count": 27,
   "metadata": {},
   "outputs": [
    {
     "name": "stdout",
     "output_type": "stream",
     "text": [
      "number of 't' in Str is = 2 \n",
      " number of 'a' in Str is = 2\n"
     ]
    }
   ],
   "source": [
    "#count the number of \"t\", \"a\", \"Python\" in the above string\n",
    "print(f\"number of 't' in Str is = {Str.count('t')}\",'\\n', \n",
    "     f\"number of 'a' in Str is = {Str.count('a')}\")"
   ]
  },
  {
   "cell_type": "code",
   "execution_count": 28,
   "metadata": {},
   "outputs": [
    {
     "name": "stdout",
     "output_type": "stream",
     "text": [
      "0 10\n"
     ]
    }
   ],
   "source": [
    "#print the starting index of the substring \"Python\", \"easy\" \n",
    "#using string's find method\n",
    "print(Str.find('Python'), Str.find('easy'))"
   ]
  },
  {
   "cell_type": "code",
   "execution_count": 29,
   "metadata": {},
   "outputs": [
    {
     "name": "stdout",
     "output_type": "stream",
     "text": [
      "Python is super easy to learn\n"
     ]
    }
   ],
   "source": [
    "#Replace \"easy\" with \"super easy\" and print the resultant string. \n",
    "#Use string's replace method\n",
    "n_str=Str.replace('easy','super easy')\n",
    "print(n_str)"
   ]
  },
  {
   "cell_type": "code",
   "execution_count": 30,
   "metadata": {},
   "outputs": [
    {
     "name": "stdout",
     "output_type": "stream",
     "text": [
      "input greeting: vada\n",
      "Enter name: kumaru\n",
      "vada,kumaru, How are you doing?\n"
     ]
    }
   ],
   "source": [
    "#Using string formatter, print the following greetings for several of your friends ({}, {}, How are you doing?)\n",
    "greeting =input('input greeting: ')\n",
    "name = input('Enter name: ')\n",
    "print (\"{},{}, How are you doing?\"\n",
    "                        .format(greeting,name)) "
   ]
  },
  {
   "cell_type": "code",
   "execution_count": 31,
   "metadata": {},
   "outputs": [
    {
     "name": "stdout",
     "output_type": "stream",
     "text": [
      "input greeting: enna\n",
      "Enter name: gopalu\n",
      "enna,gopalu, How are you doing?\n"
     ]
    }
   ],
   "source": [
    "#Using format string\n",
    "greeting =input('input greeting: ')\n",
    "name = input('Enter name: ')\n",
    "print (f\"{greeting},{name}, How are you doing?\")"
   ]
  },
  {
   "cell_type": "code",
   "execution_count": 32,
   "metadata": {},
   "outputs": [
    {
     "name": "stdout",
     "output_type": "stream",
     "text": [
      "enter String: Hello\n",
      "['H', 'e', 'l', 'l', 'o']\n"
     ]
    }
   ],
   "source": [
    "#Write a program to split the following string as independent strings.\n",
    "\n",
    "string= input(\"enter String: \")\n",
    "print(list(string))"
   ]
  },
  {
   "cell_type": "code",
   "execution_count": 33,
   "metadata": {},
   "outputs": [
    {
     "name": "stdout",
     "output_type": "stream",
     "text": [
      "India is a great country\n"
     ]
    }
   ],
   "source": [
    "#Write a program to convert the following string \"India-is-a-great-country\" to \"India is a great country\"\n",
    "string=\"India-is-a-great-country\"\n",
    "print(string.replace('-',' '))"
   ]
  },
  {
   "cell_type": "code",
   "execution_count": 34,
   "metadata": {},
   "outputs": [
    {
     "name": "stdout",
     "output_type": "stream",
     "text": [
      "enter String: India-is-a-great-country\n",
      "enter the character for which you need the count of: t\n",
      "number of 't' in Str is = 2\n"
     ]
    }
   ],
   "source": [
    "#Write a program to count number of times each character is present in the given string.\n",
    "string= input(\"enter String: \")\n",
    "F= input('enter the character for which you need the count of: ')\n",
    "\n",
    "print(f\"number of 't' in Str is = {string.count(F)}\")"
   ]
  },
  {
   "cell_type": "code",
   "execution_count": 36,
   "metadata": {},
   "outputs": [
    {
     "name": "stdout",
     "output_type": "stream",
     "text": [
      "enter string: list.extend()\n",
      "2\n"
     ]
    }
   ],
   "source": [
    "#Write a program to count number of special characters present in the given string.\n",
    "\n",
    "s= input('enter string: ')\n",
    "L=['[','^','&','$','#',']','{','}','<','>','/','?','!','@','%','*','(',')',',']\n",
    "n=0\n",
    "for i in range(len(s)):\n",
    "    if s[i] in L:\n",
    "        n += 1\n",
    "print(n)"
   ]
  },
  {
   "cell_type": "code",
   "execution_count": 37,
   "metadata": {},
   "outputs": [
    {
     "name": "stdout",
     "output_type": "stream",
     "text": [
      "3\n"
     ]
    }
   ],
   "source": [
    "#By using regex we can convert te word char to None and the we are left with special charecters.\n",
    "import re\n",
    "f = len(re.sub('[A-Za-z0-9\\s]+', '', s))\n",
    "print(f)"
   ]
  },
  {
   "cell_type": "code",
   "execution_count": 38,
   "metadata": {},
   "outputs": [
    {
     "name": "stdout",
     "output_type": "stream",
     "text": [
      "2\n",
      "2.0\n"
     ]
    }
   ],
   "source": [
    "#Write a program to do the following.\n",
    "#Convert string \"2\" to integer 2\n",
    "print(int(\"2\"))\n",
    "#Convert string \"2.0\" to float 2.0\n",
    "print(float(\"2.0\"))"
   ]
  },
  {
   "cell_type": "code",
   "execution_count": 86,
   "metadata": {},
   "outputs": [
    {
     "name": "stdout",
     "output_type": "stream",
     "text": [
      "[1, 2, 5, 3]\n",
      "5\n"
     ]
    }
   ],
   "source": [
    "#Write a program that takes a list of strings and return the length of the longest string.\n",
    "lon_s=['a','ab','abcde','abc']\n",
    "def Maxstrlen(list):\n",
    "    l_lon = []\n",
    "    for x in range(0,len(list)):\n",
    "        l_lon.append(len(lon_s[x]))\n",
    "    print(l_lon)\n",
    "    print(max(l_lon))\n",
    "Maxstrlen(lon_str)"
   ]
  },
  {
   "cell_type": "code",
   "execution_count": 63,
   "metadata": {},
   "outputs": [
    {
     "name": "stdout",
     "output_type": "stream",
     "text": [
      "enter date in MM-DD-YYYY format: 12-12-1996\n",
      "1996-12-12\n"
     ]
    }
   ],
   "source": [
    "#Write a program that takes a date in MM-DD-YYYY format and returns in YYYY-MM-DD format\n",
    "date = input('enter date in MM-DD-YYYY format: ')\n",
    "def datefor(set):\n",
    "    dd=date[3:5]\n",
    "    mm=date[0:2]\n",
    "    yyyy=date[6:]\n",
    "    print(f\"{yyyy}-{mm}-{dd}\")\n",
    "datefor(date)"
   ]
  },
  {
   "cell_type": "code",
   "execution_count": 67,
   "metadata": {},
   "outputs": [
    {
     "name": "stdout",
     "output_type": "stream",
     "text": [
      "Enter string with vowels: number of times the vowels - \"a\", \"e\", \"i\", \"o\" and \"u\" is prEsent in a string\n",
      "number of times the vowels - \"a\", \"e\", \"i\", \"o\" and \"u\" is present in a this string is = 20\n"
     ]
    }
   ],
   "source": [
    "#Write a program to find number of times the vowels - \"a\", \"e\", \"i\", \"o\" and \"u\" is present in a string.\n",
    "#method 1\n",
    "Str = input(\"Enter string with vowels: \")\n",
    "vow_low= Str.count('a') + Str.count('e') + Str.count('i') + Str.count('o') + Str.count('u')\n",
    "vow_cap= Str.count('A') + Str.count('E') + Str.count('I') + Str.count('O') + Str.count('U')\n",
    "print(f'number of times the vowels - \"a\", \"e\", \"i\", \"o\" and \"u\" is present in a this string is = {vow_low + vow_cap}')"
   ]
  },
  {
   "cell_type": "code",
   "execution_count": 71,
   "metadata": {},
   "outputs": [
    {
     "name": "stdout",
     "output_type": "stream",
     "text": [
      "enter string: f'number of times the vowels - \"a\", \"e\", \"i\", \"o\" and \"u\" is present in a this string is = {vow_low + vow_cap}'\n",
      "number of times the vowels - \"a\", \"e\", \"i\", \"o\" and \"u\" is present in a this string is = 20\n"
     ]
    }
   ],
   "source": [
    "#Write a program to find number of times the vowels - \"a\", \"e\", \"i\", \"o\" and \"u\" is present in a string.\n",
    "#method 2\n",
    "vow_l=['a','A','e','E','i','I','o','O','u','U']\n",
    "string = input(\"enter string: \")\n",
    "num = 0\n",
    "for i in range(0,len(vow_l)):\n",
    "    num = num + Str.count(vow_l[i])\n",
    "print(f'number of times the vowels - \"a\", \"e\", \"i\", \"o\" and \"u\" is present in a this string is = {num}')"
   ]
  },
  {
   "cell_type": "code",
   "execution_count": 72,
   "metadata": {},
   "outputs": [
    {
     "name": "stdout",
     "output_type": "stream",
     "text": [
      "enter string with white space at the begnning and end:  Chris Gayle \n",
      "Chris Gayle\n"
     ]
    }
   ],
   "source": [
    "#Write a program to remove white spaces from beginning and end of a string.\n",
    "string = input(\"enter string with white space at the begnning and end: \")\n",
    "print(string.strip())\n",
    "#str.strip() removes white space from the left(begnning) and right(end) of the givrn string"
   ]
  },
  {
   "cell_type": "code",
   "execution_count": 90,
   "metadata": {},
   "outputs": [
    {
     "name": "stdout",
     "output_type": "stream",
     "text": [
      "['a', 'ab', 'abc', 'abcde']\n"
     ]
    }
   ],
   "source": [
    "#Write a program to sort a list of strings based on the length of the strings\n",
    "lon_s=['a','ab','abcde','abc']\n",
    "lon_s.sort()\n",
    "#lon_s.sort()\n",
    "#this function sorts the list in ascendind order\n",
    "print(lon_s)"
   ]
  },
  {
   "cell_type": "code",
   "execution_count": 92,
   "metadata": {},
   "outputs": [
    {
     "name": "stdout",
     "output_type": "stream",
     "text": [
      "enter a character to find it's ASCII value: A\n",
      "65\n"
     ]
    }
   ],
   "source": [
    "#Write a program to find ASCII value of given character\n",
    "char = input(\"enter a character to find it's ASCII value: \")\n",
    "print(ord(char))\n",
    "#ord(value) returns the ASCII code associated with that value"
   ]
  },
  {
   "cell_type": "code",
   "execution_count": 132,
   "metadata": {},
   "outputs": [
    {
     "name": "stdout",
     "output_type": "stream",
     "text": [
      "Enter a string: hello jothi\n",
      "[104, 101, 108, 108, 111, 32, 106, 111, 116, 104, 105]\n"
     ]
    }
   ],
   "source": [
    "#Given a string, write a program to return list of corresponding ASCII characters\n",
    "# If the string is \"hello\", you should return a list that has ASCII values of each character in corresponding index in list\n",
    "String = input(\"Enter a string: \")\n",
    "L_str = list(String)\n",
    "def asciistr(value):\n",
    "    A_list = []\n",
    "    for i in range(len(L_str)):\n",
    "        A_list.append(ord(L_str[i]))\n",
    "    print(A_list)\n",
    "\n",
    "asciistr(String)"
   ]
  },
  {
   "cell_type": "code",
   "execution_count": 133,
   "metadata": {},
   "outputs": [
    {
     "name": "stdout",
     "output_type": "stream",
     "text": [
      "[97, 97, 98, 97, 98, 99, 100, 101, 97, 98, 99, 106, 100, 104, 100, 102, 105, 97, 106, 100, 102]\n"
     ]
    }
   ],
   "source": [
    "#ascii code for given list of string\n",
    "lon_s=['a','ab','abcde','abc','jdhdf','iajdf']\n",
    "\n",
    "def asciilist(value):\n",
    "    A_list = []\n",
    "    for i in range(len(lon_s)):\n",
    "        for j in range(len(lon_s[i])):\n",
    "            A_list.append(ord(lon_s[i][j]))\n",
    "    print(A_list)\n",
    "\n",
    "asciilist(lon_s)\n"
   ]
  },
  {
   "cell_type": "code",
   "execution_count": 104,
   "metadata": {},
   "outputs": [
    {
     "name": "stdout",
     "output_type": "stream",
     "text": [
      "enter string with leading white space :       Jothi\n",
      "**      Jothi**,**Jothi**\n"
     ]
    }
   ],
   "source": [
    "#Write a program to remove the leading whitespaces in a string\n",
    "string = input(\"enter string with leading white space : \")\n",
    "#the print function is written in such a way that the leading white space is visible\n",
    "\n",
    "print(f'**{string}**,**{string.lstrip()}**')"
   ]
  },
  {
   "cell_type": "code",
   "execution_count": 103,
   "metadata": {},
   "outputs": [
    {
     "name": "stdout",
     "output_type": "stream",
     "text": [
      "enter string with trailing white space : jothi   \n",
      "**jothi   **,**jothi**\n"
     ]
    }
   ],
   "source": [
    "#Write a program to remove the trailing whitespaces in a string\n",
    "string = input(\"enter string with trailing white space : \")\n",
    "#the print function is written in such a way that the trailing white space is visible\n",
    "print(f'**{string}**,**{string.rstrip()}**')"
   ]
  },
  {
   "cell_type": "code",
   "execution_count": 105,
   "metadata": {},
   "outputs": [
    {
     "name": "stdout",
     "output_type": "stream",
     "text": [
      "enter string with trailing white space :   jothi  \n",
      "**  jothi  **,**jothi**\n"
     ]
    }
   ],
   "source": [
    "#Write a program to remove both leading and trailing whitespaces in a string\n",
    "string = input(\"enter string with trailing white space : \")\n",
    "#the print function is written in such a way that the leading and trailing white space is visible\n",
    "print(f'**{string}**,**{string.strip()}**')"
   ]
  },
  {
   "cell_type": "code",
   "execution_count": 1,
   "metadata": {},
   "outputs": [
    {
     "name": "stdout",
     "output_type": "stream",
     "text": [
      "enter a string : adbf lkf\n",
      "2\n"
     ]
    }
   ],
   "source": [
    "#Given an arbitary string, write a program to find out number of alphanumeric characters\n",
    "String = input('enter a string : ')\n",
    "lst= String.split()\n",
    "total=0\n",
    "for i in range(len(lst)):\n",
    "    if lst[i].isalnum() is True:\n",
    "        total += 1\n",
    "print(total)"
   ]
  },
  {
   "cell_type": "code",
   "execution_count": null,
   "metadata": {},
   "outputs": [],
   "source": []
  },
  {
   "cell_type": "code",
   "execution_count": null,
   "metadata": {},
   "outputs": [],
   "source": []
  },
  {
   "cell_type": "code",
   "execution_count": null,
   "metadata": {},
   "outputs": [],
   "source": []
  },
  {
   "cell_type": "code",
   "execution_count": null,
   "metadata": {},
   "outputs": [],
   "source": []
  },
  {
   "cell_type": "code",
   "execution_count": null,
   "metadata": {},
   "outputs": [],
   "source": []
  },
  {
   "cell_type": "code",
   "execution_count": null,
   "metadata": {},
   "outputs": [],
   "source": []
  },
  {
   "cell_type": "code",
   "execution_count": null,
   "metadata": {},
   "outputs": [],
   "source": []
  }
 ],
 "metadata": {
  "kernelspec": {
   "display_name": "Python 3",
   "language": "python",
   "name": "python3"
  },
  "language_info": {
   "codemirror_mode": {
    "name": "ipython",
    "version": 3
   },
   "file_extension": ".py",
   "mimetype": "text/x-python",
   "name": "python",
   "nbconvert_exporter": "python",
   "pygments_lexer": "ipython3",
   "version": "3.7.3"
  }
 },
 "nbformat": 4,
 "nbformat_minor": 2
}
